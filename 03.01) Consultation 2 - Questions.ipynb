{
 "cells": [
  {
   "cell_type": "markdown",
   "id": "e8884bcd-6cd3-4ffe-8078-423ed28999ec",
   "metadata": {},
   "source": [
    "# ZEV Mandate: Consultation Initial Thoughts and Reactions\n",
    "\n",
    "This notebook explores some of the questions raised in the DfT's ZEV Mandate consultation, published in March 2023. \n",
    "\n"
   ]
  },
  {
   "cell_type": "code",
   "execution_count": 248,
   "id": "9e5364be-c237-4eb7-a3df-7dd77d977e40",
   "metadata": {},
   "outputs": [
    {
     "name": "stdout",
     "output_type": "stream",
     "text": [
      "The google.cloud.bigquery extension is already loaded. To reload it, use:\n",
      "  %reload_ext google.cloud.bigquery\n"
     ]
    }
   ],
   "source": [
    "# import packages\n",
    "import pandas as pd\n",
    "import numpy as np\n",
    "%load_ext google.cloud.bigquery\n",
    "import pickle\n",
    "from matplotlib import pyplot as plt\n",
    "with open('design.pkl','rb') as f:\n",
    "    set_params = pickle.load(f)\n",
    "plt.rcParams.update(set_params)"
   ]
  },
  {
   "cell_type": "markdown",
   "id": "eb16f8ff-3359-4614-90c9-1dc5d5ff8961",
   "metadata": {},
   "source": [
    "## Regional / National Question\n",
    "\n",
    "insert code here to answer the question of whether one UK target should be required."
   ]
  },
  {
   "cell_type": "code",
   "execution_count": null,
   "id": "d234f984-4f21-48ea-a623-59caeb648134",
   "metadata": {},
   "outputs": [],
   "source": []
  },
  {
   "cell_type": "markdown",
   "id": "edf45eb6-2aaf-4223-bead-6bcc341cf0ef",
   "metadata": {},
   "source": [
    "## Sample Car Company Calculation"
   ]
  },
  {
   "cell_type": "markdown",
   "id": "7c4577df-a1dc-4416-a17d-37af889ef6c8",
   "metadata": {},
   "source": [
    "In this section we will take an example of a car manufacturer and see how their sales in a twelve-month period would fare under the mandate with a made-up target. \n",
    "\n",
    "To change to a different manufacturer, simple change the name in the two SQL queries below. "
   ]
  },
  {
   "cell_type": "code",
   "execution_count": 712,
   "id": "8a964509-0435-407b-a176-713c533f11af",
   "metadata": {},
   "outputs": [],
   "source": [
    "mandate = 0.16\n",
    "credits = 0\n",
    "\n",
    "zevm_compliance = False\n",
    "co2_compliance = False\n"
   ]
  },
  {
   "cell_type": "code",
   "execution_count": 713,
   "id": "b6bc94fb-0c79-442a-b495-99433a7ef585",
   "metadata": {},
   "outputs": [
    {
     "name": "stderr",
     "output_type": "stream",
     "text": [
      "Query complete after 0.00s: 100%|██████████| 1/1 [00:00<00:00, 2053.01query/s] \n",
      "Downloading: 100%|██████████| 1/1 [00:00<00:00,  1.02rows/s]\n"
     ]
    }
   ],
   "source": [
    "%%bigquery tg --project rugged-baton-283921\n",
    "SELECT AVG(co2Emissions) as target\n",
    "FROM VES_dataset.VRN_UK\n",
    "WHERE typeApproval = 'M1'\n",
    "AND make IN ('HYUNDAI')\n",
    "AND co2Emissions > 0\n",
    "AND monthOfFirstRegistration >= '2021-01-01'\n",
    "AND monthOfFirstRegistration < '2022-01-01'"
   ]
  },
  {
   "cell_type": "code",
   "execution_count": 714,
   "id": "4d3291b4-31a8-4bcf-babe-bcc7d9fae0c7",
   "metadata": {},
   "outputs": [
    {
     "data": {
      "text/plain": [
       "127.2359398193111"
      ]
     },
     "execution_count": 714,
     "metadata": {},
     "output_type": "execute_result"
    }
   ],
   "source": [
    "# The CO2 target is taken from the average Co2 rating of the non-ZEV sales from 2021. \n",
    "co2_target = tg.target[0]\n",
    "co2_target"
   ]
  },
  {
   "cell_type": "code",
   "execution_count": 715,
   "id": "c9c86428-af52-4cb1-ab8d-818eea5584eb",
   "metadata": {},
   "outputs": [
    {
     "name": "stderr",
     "output_type": "stream",
     "text": [
      "Query complete after 0.00s: 100%|██████████| 2/2 [00:00<00:00, 2074.33query/s]                        \n",
      "Downloading: 100%|██████████| 77429/77429 [00:01<00:00, 39774.87rows/s]\n"
     ]
    }
   ],
   "source": [
    "%%bigquery df --project rugged-baton-283921\n",
    "SELECT registrationNumber, fuelType, co2Emissions, revenueWeight, 1 as num\n",
    "FROM VES_dataset.VRN_UK\n",
    "WHERE typeApproval = 'M1'\n",
    "AND make IN ('HYUNDAI')\n",
    "AND monthOfFirstRegistration >= '2022-03-01'\n",
    "AND monthOfFirstRegistration < '2023-03-01'"
   ]
  },
  {
   "cell_type": "code",
   "execution_count": 716,
   "id": "648749e1-ece9-4b8d-9bec-b7f1cb8b81fe",
   "metadata": {},
   "outputs": [
    {
     "name": "stdout",
     "output_type": "stream",
     "text": [
      "This manufacturer's total sales were 77429.\n",
      "This manufacturer's total allowances were 65040.\n",
      "This manufacturer's total non-zev sales were 64005.\n",
      "This manufacturer is ZEV Mandate compliant with a surplus of 1035 allowances before flexibilities.\n"
     ]
    }
   ],
   "source": [
    "# Total car sales is just the total number of vehicles in the dataframe. Each one starts with a quantifier - 1. \n",
    "total_car_sales = df.num.sum()\n",
    "print(\"This manufacturer's total sales were {}.\".format(total_car_sales))\n",
    "\n",
    "# Now we calculate allowances under the ZEV mandate. \n",
    "allowances = (1-mandate) * total_car_sales\n",
    "print(\"This manufacturer's total allowances were {}.\".format(round(allowances)))\n",
    "\n",
    "# Now we get the total non-ZEV sales\n",
    "non_zev_sales = df[df.co2Emissions > 0].num.sum()\n",
    "print(\"This manufacturer's total non-zev sales were {}.\".format(non_zev_sales))\n",
    "\n",
    "# Have they complied initially? The formula for compliance is as follows:\n",
    "compliance = allowances - (non_zev_sales - credits)\n",
    "\n",
    "# UK new non-ZEV sales activity - credis >= allowances\n",
    "if compliance > 0:\n",
    "    print(\"This manufacturer is ZEV Mandate compliant with a surplus of {} allowances before flexibilities.\".format(round(compliance)))\n",
    "    \n",
    "else:\n",
    "    print(\"This manufacturer is ZEV Mandate non-compliant with a deficit of {} allowances before flexibilities. They will need to use flexibilities.\".format(round(compliance)))"
   ]
  },
  {
   "cell_type": "code",
   "execution_count": 717,
   "id": "4f8cc3cd-1c5a-4429-bfe4-2d62bcfec4d9",
   "metadata": {},
   "outputs": [
    {
     "data": {
      "text/plain": [
       "77429"
      ]
     },
     "execution_count": 717,
     "metadata": {},
     "output_type": "execute_result"
    }
   ],
   "source": [
    "total_car_sales"
   ]
  },
  {
   "cell_type": "code",
   "execution_count": 718,
   "id": "531a795c-5ae1-41be-bc07-4e0f61dcffde",
   "metadata": {},
   "outputs": [
    {
     "data": {
      "text/plain": [
       "64005"
      ]
     },
     "execution_count": 718,
     "metadata": {},
     "output_type": "execute_result"
    }
   ],
   "source": [
    "non_zev_sales"
   ]
  },
  {
   "cell_type": "code",
   "execution_count": 719,
   "id": "ff62a5dd-bf4c-4646-8976-45ff7414268e",
   "metadata": {},
   "outputs": [
    {
     "name": "stdout",
     "output_type": "stream",
     "text": [
      "This manufacturer has met their CO2 target, with 177068 CO2 allowances (not ZEV credits!) to spare.\n",
      "This manufacturer has a spare 1060 ZEV credits resulting from their CO2 overperformance.\n"
     ]
    }
   ],
   "source": [
    "# One flexibility comes from the CO2 regime. Let's see how they fare. \n",
    "activity = df.co2Emissions.sum()\n",
    "co2_allowances = non_zev_sales * co2_target\n",
    "\n",
    "if co2_allowances > activity:\n",
    "    margin = co2_allowances - activity\n",
    "    \n",
    "    #paragraph 3.58 imposes 25% limit on transfers\n",
    "    co2_zev_transfer_limit = (mandate * .25)*total_car_sales\n",
    "    \n",
    "    co2_zev_transfers = margin / 167\n",
    "    if co2_zev_transfers < co2_zev_transfer_limit:\n",
    "        pass\n",
    "    else:\n",
    "        co2_zev_transfers = co2_zev_transfer_limit\n",
    "    \n",
    "    print(\"This manufacturer has met their CO2 target, with {} CO2 allowances (not ZEV credits!) to spare.\".format(round(margin)))\n",
    "    print(\"This manufacturer has a spare {} ZEV credits resulting from their CO2 overperformance.\".format(round(co2_zev_transfers)))\n",
    "    \n",
    "else:\n",
    "    print(\"This manufacturer has a shortfall in their CO2 performance...!\")"
   ]
  },
  {
   "cell_type": "code",
   "execution_count": 720,
   "id": "27a998f4-91c1-4799-bf5e-979f29fed504",
   "metadata": {},
   "outputs": [
    {
     "name": "stdout",
     "output_type": "stream",
     "text": [
      "This manufacturer is compliant with a surplus of 2096 allowances before flexibilities.\n"
     ]
    }
   ],
   "source": [
    "# Can they achieve compliance after any available transfers from the CO2 regime?\n",
    "credits += co2_zev_transfers\n",
    "\n",
    "# Have they complied initially? The formula for compliance is as follows:\n",
    "compliance = allowances - (non_zev_sales - credits)\n",
    "\n",
    "if compliance > 0:\n",
    "    print(\"This manufacturer is compliant with a surplus of {} allowances before flexibilities.\".format(round(compliance)))\n",
    "else:\n",
    "    print(\"This manufacturer is non-compliant with a deficit of {} allowances after taking into account the CO2 regime flexibilities.\\nThey will need to use flexibilities.\".format(round(compliance)))"
   ]
  },
  {
   "cell_type": "code",
   "execution_count": 721,
   "id": "efdc2aa1-b860-4c61-85c9-6a265ef67bde",
   "metadata": {},
   "outputs": [
    {
     "data": {
      "text/plain": [
       "9291.48"
      ]
     },
     "execution_count": 721,
     "metadata": {},
     "output_type": "execute_result"
    }
   ],
   "source": [
    "# One flexibility comes from borrowing. Borrowing allows manufacturers to borrow up to 75%, 50% or 25% in the first two years of the scheme. \n",
    "# We set the cap below:\n",
    "\n",
    "borrowing_cap = .75\n",
    "\n",
    "borrowable_allowances = (mandate * total_car_sales) * borrowing_cap\n",
    "\n",
    "borrowable_allowances"
   ]
  },
  {
   "cell_type": "code",
   "execution_count": 722,
   "id": "9c1bcac2-3902-4e1b-be00-a2dfc6c1cfe4",
   "metadata": {},
   "outputs": [
    {
     "name": "stdout",
     "output_type": "stream",
     "text": [
      "This manufacturer is compliant with a surplus of 11387 allowances after borrowing.\n"
     ]
    }
   ],
   "source": [
    "# Can they achieve compliance after any available transfers from the borrowing flexibility?\n",
    "\n",
    "credits += borrowable_allowances\n",
    "\n",
    "# Have they complied initially? The formula for compliance is as follows:\n",
    "compliance = allowances - (non_zev_sales - credits)\n",
    "\n",
    "if compliance > 0:\n",
    "    print(\"This manufacturer is compliant with a surplus of {} allowances after borrowing.\".format(round(compliance)))\n",
    "else:\n",
    "    print(\"This manufacturer is non-compliant with a deficit of {} allowances before flexibilities. They will need to use flexibilities.\".format(round(compliance)))"
   ]
  },
  {
   "cell_type": "code",
   "execution_count": 723,
   "id": "5ae544ed-28b4-46cb-80e1-e5b6bcc4c3ed",
   "metadata": {},
   "outputs": [
    {
     "data": {
      "text/plain": [
       "77429"
      ]
     },
     "execution_count": 723,
     "metadata": {},
     "output_type": "execute_result"
    }
   ],
   "source": [
    "total_car_sales"
   ]
  },
  {
   "cell_type": "code",
   "execution_count": 724,
   "id": "49dc7a0e-4ed3-4c1a-82cd-91adb2d1a55a",
   "metadata": {},
   "outputs": [],
   "source": [
    "manufacturer_names = 'Hyundai'"
   ]
  },
  {
   "cell_type": "code",
   "execution_count": 725,
   "id": "081cd905-5ed1-41af-8c86-3a1484d6462c",
   "metadata": {},
   "outputs": [
    {
     "data": {
      "image/png": "[encoded data removed]",
      "text/plain": [
       "<Figure size 864x648 with 1 Axes>"
      ]
     },
     "metadata": {
      "needs_background": "light"
     },
     "output_type": "display_data"
    }
   ],
   "source": [
    "fig, ax = plt.subplots()\n",
    "\n",
    "ax.set_title('How {m} might use flexibilities \\nto achieve ZEV mandate compliance. \\nZEV Mandate target: {t}%'.format(m=manufacturer_names, t=mandate*100), loc='left')\n",
    "\n",
    "# ax.text(0, s='Assuming a ZEV Mandate target of {}%'.format(mandate*100), fontsize=15)\n",
    "# ax.set_ylim(0, 150000)\n",
    "\n",
    "ax.grid(False)\n",
    "ax.set_xlim(0, 1)\n",
    "ax.bar(.05, total_car_sales, width=0.1, label='Total Car Sales')\n",
    "ax.axhline(y=non_zev_sales, xmin=0, xmax=.7, color='black', label='Required Allowances')\n",
    "ax.bar(0.2, non_zev_sales, width=0.1, label='Non-ZEV Sales')\n",
    "ax.bar(0.2, (total_car_sales - non_zev_sales), bottom=non_zev_sales, width=0.1, label='ZEV Sales', )\n",
    "ax.set_xticklabels([])\n",
    "ax.set_xticks([])\n",
    "ax.set_ylabel('Cars / Allowances')\n",
    "\n",
    "# ax.bar(0.5, total_)\n",
    "ax.bar(.45, allowances, width=0.1, label='Allowances')\n",
    "ax.bar(.55, co2_zev_transfers, bottom=allowances, width=0.1, label='Credits from CO2 transfers')\n",
    "ax.bar(.65, borrowable_allowances, bottom=(co2_zev_transfers + allowances), width=0.1, label='Credits from CO2 transfers', )\n",
    "\n",
    "ax.text(.04, total_car_sales/3, s='Total Car Sales', fontsize=25, rotation='vertical')\n",
    "ax.text(.185, non_zev_sales/3, s='Non-ZEV Sales', fontsize=25, rotation='vertical')\n",
    "if total_car_sales > non_zev_sales:\n",
    "    ax.text(.165, (non_zev_sales + (total_car_sales-non_zev_sales+2000)/3), s='ZEV Sales', fontsize=10, rotation='horizontal')\n",
    "else:\n",
    "    pass\n",
    "\n",
    "ax.text(.44, allowances/3, s='Allowances', fontsize=25, rotation='vertical')\n",
    "ax.text(.515, allowances - (allowances/10), s='Transfers \\nfrom CO2 \\nstandards', fontsize=10, rotation='horizontal')\n",
    "ax.text(.61, (co2_zev_transfers + allowances+borrowable_allowances/3), s='Borrowable \\nAllowances', fontsize=10, rotation='horizontal')\n",
    "\n",
    "\n",
    "plt.savefig('plots/flexibilities_{}.png'.format(manufacturer_names), transparent=False, bbox_inches='tight', dpi=300)"
   ]
  },
  {
   "cell_type": "code",
   "execution_count": null,
   "id": "b0e46ba3-e27e-41ba-b4b1-53299d3966a2",
   "metadata": {},
   "outputs": [],
   "source": []
  },
  {
   "cell_type": "code",
   "execution_count": null,
   "id": "befc7291-a9b0-4603-9724-e8bf4e4c1024",
   "metadata": {},
   "outputs": [],
   "source": []
  }
 ],
 "metadata": {
  "kernelspec": {
   "display_name": "Python 3",
   "language": "python",
   "name": "python3"
  },
  "language_info": {
   "codemirror_mode": {
    "name": "ipython",
    "version": 3
   },
   "file_extension": ".py",
   "mimetype": "text/x-python",
   "name": "python",
   "nbconvert_exporter": "python",
   "pygments_lexer": "ipython3",
   "version": "3.9.5"
  }
 },
 "nbformat": 4,
 "nbformat_minor": 5
}
