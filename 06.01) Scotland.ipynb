{
 "cells": [
  {
   "cell_type": "markdown",
   "id": "bdb991dc-f799-4d5e-b20b-d24136fe3abe",
   "metadata": {},
   "source": [
    "# Scottish ZEV Mandate Carbon Reduction Analysis"
   ]
  },
  {
   "cell_type": "code",
   "execution_count": 1,
   "id": "ae05eefe-9358-45dd-836b-148e59703c58",
   "metadata": {},
   "outputs": [],
   "source": [
    "\n",
    "import pandas as pd\n",
    "from matplotlib import pyplot as plt\n",
    "from tqdm import tqdm\n",
    "from datetime import datetime as dt\n",
    "from dateutil.relativedelta import relativedelta\n",
    "import re\n",
    "import requests\n",
    "import os\n",
    "import numpy as np\n",
    "tqdm.pandas()\n",
    "%load_ext google.cloud.bigquery"
   ]
  },
  {
   "cell_type": "markdown",
   "id": "0548cd4d-4a51-4f1d-bb29-30487e6fdf3e",
   "metadata": {},
   "source": [
    "## Step 1: Pre-process data"
   ]
  },
  {
   "cell_type": "markdown",
   "id": "fa203508-0f70-464c-8a6b-5f523ad5fee0",
   "metadata": {},
   "source": [
    "### 1.1 Fuel Consumption Data\n",
    "The Department for Business, Energy Security and Industrial Strategy (as was) publishes sub-national fuel consumption data, from which we can extract data for Scotland. Unfortunately they publish one year on one tab of the document, meaning we need to write a little script to extract the data and put it in a better format.\n",
    "\n",
    "Input: 'sub-national-road-transport-fuel-consumption-statistics-2005-20**.ods' from inside the `data` folder, available at https://www.gov.uk/government/collections/road-transport-consumption-at-regional-and-local-level\n",
    "\n",
    "Output: a CSV file with cleaned up fuel consumption data, where each row is a year, so that we can see the trend over time. The csv `scotland_yearly_fuel.csv` is saved in the data folder."
   ]
  },
  {
   "cell_type": "code",
   "execution_count": 2,
   "id": "ffc1f049-c7e7-4a5d-97a9-a90b193aa5e5",
   "metadata": {},
   "outputs": [
    {
     "name": "stderr",
     "output_type": "stream",
     "text": [
      "100%|██████████| 16/16 [05:13<00:00, 19.59s/it]\n"
     ]
    }
   ],
   "source": [
    "if not os.path.isfile('data/scotland_yearly_fuel.csv'):\n",
    "\n",
    "    years = list(range(2005, 2021))\n",
    "    years = [str(x) for x in years]\n",
    "\n",
    "    fl = []\n",
    "\n",
    "    for year in tqdm(years):\n",
    "        df = pd.read_excel('data/sub-national-road-transport-fuel-consumption-statistics-2005-2020.ods', header=3, sheet_name=year)\n",
    "        df = df[df['Local Authority Code'] == 'S12000033']\n",
    "        df['year'] = int(year)\n",
    "        fl.append(df)\n",
    "\n",
    "    fc = pd.concat(fl)\n",
    "\n",
    "    fc.set_index('year', inplace=True)\n",
    "\n",
    "    fc.index = pd.to_datetime(fc.index, format='%Y')\n",
    "\n",
    "    fc.to_csv('data/scotland_yearly_fuel.csv')\n",
    "else:\n",
    "    fc = pd.read_csv('data/scotland_yearly_fuel.csv', index_col=0)\n",
    "    fc.index = pd.to_datetime(fc.index, format='%Y')"
   ]
  },
  {
   "cell_type": "markdown",
   "id": "0befa72a-040c-4644-8f62-b4b7a7a0cd3f",
   "metadata": {},
   "source": [
    "### 1.2 Vehicle Fleet Composition Data\n",
    "We want to know how many cars are on the road in Scotland. DfT publishes two tables which cover this, from their Vehicle Licensing Statistics data series (here: https://www.gov.uk/government/statistical-data-sets/vehicle-licensing-statistics-data-tables).\n",
    "\n",
    "The two tables are `VEH0105` and `VEH0142` covering the number of petrol, diesel and other fossil fuelled vehicles, and different kinds of low emissions vehicles respectively. Because these are in two different sheets, we need a script (below) that will clean them up and make them more usable. It's very slow, unfortunately.\n",
    "\n",
    "Inputs: 'veh0105.ods' and 'veh0142' from the data folder. They are saved into one CSV called scotland_vehicle_parc.csv"
   ]
  },
  {
   "cell_type": "code",
   "execution_count": 3,
   "id": "77b8b1f6-14a5-4109-9ada-77abd8b3b7bb",
   "metadata": {},
   "outputs": [],
   "source": [
    "#crazy function to rationalise fueltypes\n",
    "def ft_cleaner_dft(x):\n",
    "    x = x.replace('Battery electric', 'Pure Electric')\n",
    "    x = x.replace('Other fuels', 'Other').replace('Other fuel types', 'Other')\n",
    "    x = x.replace('Plug-in hybrid electric (diesel)', 'Diesel')\n",
    "    x = x.replace('Range extended electric', 'Pure Electric')\n",
    "    x = x.replace('Plug-in hybrid electric (petrol)', 'Petrol')\n",
    "    x = x.replace('Hybrid electric (petrol)', 'Petrol')\n",
    "    x = x.replace('Hybrid electric (diesel)', 'Diesel')\n",
    "    x = x.replace('Fuel cell electric', 'Pure Electric')\n",
    "    x = x.replace('Gas', 'Other')\n",
    "    return x"
   ]
  },
  {
   "cell_type": "code",
   "execution_count": 4,
   "id": "c720bd1d-3824-4d5f-967c-3e0ab4e87962",
   "metadata": {},
   "outputs": [],
   "source": [
    "if not os.path.isfile('data/scotand_vehicle_parc.csv'):\n",
    "\n",
    "    # This deals with VEH0105. We're basically taking the ODS format document, and then dropping irrelevant bits of the table. Unfortunately as DfT like to change the way they format their spreadsheets, this will likely break in the future or need amendment to keep it working OK. \n",
    "\n",
    "    veh0105 = pd.read_excel('data/veh0105.ods', sheet_name='VEH0105', header=4)\n",
    "    veh0105.drop(columns=['Units', 'ONS Geography [note 6]'], inplace=True)\n",
    "    veh0105 = veh0105[veh0105.BodyType != 'Total']\n",
    "    veh0105 = veh0105[veh0105['Fuel [note 2]'] != 'Total']\n",
    "    veh0105 = veh0105[veh0105['Keepership [note 3]'] != 'Total']\n",
    "    veh0105 = veh0105[veh0105['ONS Code [note 6]'] == 'S12000033']\n",
    "    veh0105.drop(columns=['ONS Sort [note 6]', 'ONS Code [note 6]'], inplace=True)\n",
    "    veh0105.rename(columns={'Fuel [note 2]': 'Fuel', 'Keepership [note 3]': 'Keepership'}, inplace=True)\n",
    "    veh0105 = veh0105.melt(id_vars=['BodyType', 'Fuel', 'Keepership'])\n",
    "    veh0105['value'] = veh0105.value.apply(lambda x: pd.to_numeric(x, errors='coerce'))\n",
    "    veh0105['variable'] = pd.PeriodIndex(veh0105['variable'].apply(lambda x: x.replace(' ', '-')), freq='Q').to_timestamp()\n",
    "    veh0105['value'] = veh0105['value'].apply(lambda x: x*1000)\n",
    "    \n",
    "    # Now import VEH0142\n",
    "    veh0142 = pd.read_excel('data/veh0142.ods', sheet_name='VEH0142', header=4)\n",
    "    veh0142.drop(columns=['Units', 'ONS Geography [note 6]'], inplace=True)\n",
    "    veh0142 = veh0142[veh0142['Fuel'] != 'Total']\n",
    "    veh0142 = veh0142[veh0142['BodyType'] != 'Total']\n",
    "    veh0142 = veh0142[veh0142['Keepership [note 3]'] != 'Total']\n",
    "    veh0142 = veh0142[veh0142['ONS Code [note 6]'] == 'S12000033']\n",
    "    veh0142.drop(columns=['ONS Sort [note 6]', 'ONS Code [note 6]'], inplace=True)\n",
    "    veh0142.rename(columns={'Fuel [note 2]': 'Fuel', 'Keepership [note 3]': 'Keepership'}, inplace=True)\n",
    "    veh0142 = veh0142.melt(id_vars=['Fuel', 'Keepership', 'BodyType'])\n",
    "    veh0142['value'] = veh0142.value.apply(lambda x: pd.to_numeric(x, errors='coerce'))\n",
    "    veh0142['variable'] = pd.PeriodIndex(veh0142['variable'].apply(lambda x: x.replace(' ', '-')), freq='Q').to_timestamp()\n",
    "    \n",
    "    pc = pd.concat([veh0142, veh0105])\n",
    "    pc['variable'] = pc.variable.apply(pd.to_datetime)\n",
    "    pc = pc.groupby(['variable', 'BodyType', 'Fuel']).sum().reset_index(['BodyType', 'Fuel'])\n",
    "    pc['Fuel'] = pc.Fuel.apply(ft_cleaner_dft)\n",
    "    pc = pc.reset_index().groupby(['variable', 'BodyType', 'Fuel']).sum().reset_index(['BodyType', 'Fuel'])\n",
    "    \n",
    "    pc.to_csv('data/scotand_vehicle_parc.csv')\n",
    "    \n",
    "else:\n",
    "    pc = pd.read_csv('data/scotand_vehicle_parc.csv', index_col=0)\n",
    "    pc.index = pd.to_datetime(pc.index)"
   ]
  },
  {
   "cell_type": "code",
   "execution_count": null,
   "id": "333ece89-f70a-47d0-b4a9-baefcc504407",
   "metadata": {},
   "outputs": [],
   "source": [
    "1.3 Average Car Mileage\n",
    "We want to know how annual mileage is changing in Wales. This was calculated using a query 'Annual Welsh Car Mileage by Fueltype', which is saved in BigQuery. That query essentially takes a selection of vehicles that have had an MOT in a Welsh postcode district, and then calculates its annual mileage, which is then allocated to a year (imperfectly). Lastly, we group them by a particular set of fueltypes (Petrol, Diesel and Electric, with hybrids grouped into Petrol) and the mean is calculated.\n",
    "\n",
    "A note on this. Why do we take the mean? We want to know things about the total demand for vehicle miles (perhaps) more than the behaviour of particular outliers. Knowing the total number of vehicles and the average mileage gives us a good indication of this. It may limit our ability to consider how targeting high miler vehicles might accelerate the transition, but there will be some possibility to consider a reduction in the average mileage driven by fossil fuel. Also, the MOT database does not give us a complete picture of the whole vehicle parc, since it misses young vehicles. So using it a bit like a survey, taking the mean, and using that in conjunction with the total number of vehicles, seems like it could be a sensible approach.\n",
    "\n",
    "A table in bigquery holds the data that we need, with the calculations already having being done for us. This table is rugged-baton-283921.wales.annual_mileage_fueltype. We can simply pull the data, and store in a csv."
   ]
  },
  {
   "cell_type": "code",
   "execution_count": 5,
   "id": "c548cccb-95df-4a23-b13e-ff3b7a737007",
   "metadata": {},
   "outputs": [
    {
     "name": "stderr",
     "output_type": "stream",
     "text": [
      "Query complete after 0.00s: 100%|██████████| 1/1 [00:00<00:00, 1006.79query/s]                         \n",
      "Downloading: 100%|██████████| 72/72 [00:01<00:00, 56.77rows/s]\n"
     ]
    }
   ],
   "source": [
    "%%bigquery mm --project rugged-baton-283921\n",
    "SELECT *\n",
    "FROM rugged-baton-283921.wales.annual_mileage_fueltype_cars;"
   ]
  },
  {
   "cell_type": "code",
   "execution_count": null,
   "id": "125f9a6e-1d79-4c93-8d87-d7c6a9de49f9",
   "metadata": {},
   "outputs": [],
   "source": []
  }
 ],
 "metadata": {
  "kernelspec": {
   "display_name": "Python 3",
   "language": "python",
   "name": "python3"
  },
  "language_info": {
   "codemirror_mode": {
    "name": "ipython",
    "version": 3
   },
   "file_extension": ".py",
   "mimetype": "text/x-python",
   "name": "python",
   "nbconvert_exporter": "python",
   "pygments_lexer": "ipython3",
   "version": "3.9.5"
  }
 },
 "nbformat": 4,
 "nbformat_minor": 5
}
