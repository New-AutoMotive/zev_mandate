{
 "cells": [
  {
   "cell_type": "code",
   "execution_count": 2,
   "id": "ebee5801-5f99-43ff-b5a4-6b68d85de1d0",
   "metadata": {},
   "outputs": [],
   "source": [
    "import pandas as pd\n",
    "from matplotlib import pyplot as plt\n",
    "from tqdm import tqdm\n",
    "from datetime import datetime as dt\n",
    "from dateutil.relativedelta import relativedelta\n",
    "import re\n",
    "import requests\n",
    "import os\n",
    "tqdm.pandas()\n",
    "%load_ext google.cloud.bigquery"
   ]
  },
  {
   "cell_type": "markdown",
   "id": "e99f078a-80b4-46b6-9e90-5c2c3339dd98",
   "metadata": {},
   "source": [
    "## Vehicle Type & Geography variables"
   ]
  },
  {
   "cell_type": "code",
   "execution_count": 3,
   "id": "54faf9ef-c509-4709-ad54-7308a3de7f73",
   "metadata": {},
   "outputs": [],
   "source": [
    "lad_code='K02000001'\n",
    "geography_name = 'United Kingdom'\n",
    "bodyType = 'Light goods vehicles'\n",
    "geography_abbreviation = 'UK' #Use 'Wales' or 'Scotland' here, no abbreviation except for UK. Feeds the Emissions import. "
   ]
  },
  {
   "cell_type": "markdown",
   "id": "a29cbf89-33c6-4062-9e9c-5b80191b7b9f",
   "metadata": {
    "tags": []
   },
   "source": [
    "## Step 1: Pre-process data\n",
    "\n",
    "### 1.1 Fuel Consumption Data\n",
    "\n",
    "The Department for Business, Energy Security and Industrial Strategy (as was) publishes sub-national fuel consumption data, from which we can extract data for Wales. Unfortunately they publish one year on one tab of the document, meaning we need to write a little script to extract the data and put it in a better format. \n",
    "\n",
    "Input: 'sub-national-road-transport-fuel-consumption-statistics-2005-20**.ods' from inside the `data` folder, available at https://www.gov.uk/government/collections/road-transport-consumption-at-regional-and-local-level \n",
    "\n",
    "Output: a CSV file with cleaned up fuel consumption data, where each row is a year, so that we can see the trend over time. The csv `wales_yearly_fuel.csv` is saved in the `data` folder. "
   ]
  },
  {
   "cell_type": "code",
   "execution_count": 4,
   "id": "f2253cb3-b6a9-4325-9735-cf15397f85d0",
   "metadata": {},
   "outputs": [],
   "source": [
    "if not os.path.isfile('data/uk_yearly_fuel.csv'.format(lad_code)):\n",
    "\n",
    "    years = list(range(2005, 2021))\n",
    "    years = [str(x) for x in years]\n",
    "\n",
    "    fl = []\n",
    "\n",
    "    for year in tqdm(years):\n",
    "        df = pd.read_excel('data/sub-national-road-transport-fuel-consumption-statistics-2005-2020.ods', header=3, sheet_name=year)\n",
    "        df = df[df['Local Authority Code'] == lad_code]\n",
    "        df['year'] = int(year)\n",
    "        fl.append(df)\n",
    "\n",
    "    fc = pd.concat(fl)\n",
    "\n",
    "    fc.set_index('year', inplace=True)\n",
    "\n",
    "    fc.index = pd.to_datetime(fc.index, format='%Y')\n",
    "\n",
    "    fc.to_csv('data/uk_yearly_fuel.csv'.format(lad_code))\n",
    "else:\n",
    "    fc = pd.read_csv('data/uk_yearly_fuel.csv'.format(lad_code), index_col=0)\n",
    "    fc.index = pd.to_datetime(fc.index)"
   ]
  },
  {
   "cell_type": "markdown",
   "id": "5829400d-802a-48ea-8e53-2f89c3da2b01",
   "metadata": {},
   "source": [
    "### 1.2 Vehicle Fleet Composition Data\n",
    "\n",
    "We want to know how many cars are on the road in Wales. DfT publishes two tables which cover this, from their Vehicle Licensing Statistics data series (here: https://www.gov.uk/government/statistical-data-sets/vehicle-licensing-statistics-data-tables). \n",
    "\n",
    "The two tables are VEH0105 and VEH0142 covering the number of petrol, diesel and other fossil fuelled vehicles, and different kinds of low emissions vehicles respectively. Because these are in two different sheets, we need a script (below) that will clean them up and make them more usable. It's very slow, unfortunately. \n",
    "\n",
    "Inputs: 'veh0105.ods' and 'veh0142' from the `data` folder. They are saved into one CSV called `vehicle_parc.csv`\n",
    "\n"
   ]
  },
  {
   "cell_type": "code",
   "execution_count": 5,
   "id": "842f9bd7-4dc9-4bc2-83b9-7a0275690670",
   "metadata": {},
   "outputs": [],
   "source": [
    "def ft_cleaner_dft(x):\n",
    "    x = x.replace('Battery electric', 'Pure Electric')\n",
    "    x = x.replace('Other fuels', 'Other').replace('Other fuel types', 'Other')\n",
    "    x = x.replace('Plug-in hybrid electric (diesel)', 'Diesel')\n",
    "    x = x.replace('Range extended electric', 'Pure Electric')\n",
    "    x = x.replace('Plug-in hybrid electric (petrol)', 'Petrol')\n",
    "    x = x.replace('Hybrid electric (petrol)', 'Petrol')\n",
    "    x = x.replace('Hybrid electric (diesel)', 'Diesel')\n",
    "    x = x.replace('Fuel cell electric', 'Pure Electric')\n",
    "    x = x.replace('Gas', 'Other')\n",
    "    return x\n",
    "\n",
    "def ft_cleaner(x):\n",
    "    x = x.replace('GAS BI-FUEL', 'Other').replace('GAS', 'Other').replace('GAS DIESEL', 'Other').replace('PETROL/GAS', 'Other').replace('LPG', 'Other').replace('STEAM', 'Other').replace('LNG', 'Other').replace('OTHER', 'Other').replace('CNG', 'Other')\n",
    "    x = x.replace('FUEL CELLS', 'Other')\n",
    "    x = x.replace('PETROL', 'Petrol').replace('Petrol/Other', 'Petrol')\n",
    "    x = x.replace('HYBRID ELECTRIC (CLEAN)', 'Petrol').replace('HYBRID ELECTRIC', 'Petrol').replace('ELECTRIC DIESEL', 'Petrol')\n",
    "    x = x.replace('DIESEL', 'Diesel').replace('Other Diesel', 'Diesel')\n",
    "    x = x.replace('ELECTRICITY', 'Pure Electric').replace('ELECTRIC', 'Pure Electric')\n",
    "    return x"
   ]
  },
  {
   "cell_type": "code",
   "execution_count": 7,
   "id": "8c75de77-cb72-4bf3-8f51-bc486ac8bdee",
   "metadata": {},
   "outputs": [],
   "source": [
    "if not os.path.isfile('data/uk_vehicle_parc.csv'):\n",
    "\n",
    "    # This deals with VEH0105. We're basically taking the ODS format document, and then dropping irrelevant bits of the table. Unfortunately as DfT like to change the way they format their spreadsheets, this will likely break in the future or need amendment to keep it working OK. \n",
    "\n",
    "    veh0105 = pd.read_excel('data/veh0105.ods', sheet_name='VEH0105', header=4)\n",
    "    veh0105.drop(columns=['Units', 'ONS Geography [note 6]'], inplace=True)\n",
    "    veh0105 = veh0105[veh0105.BodyType != 'Total']\n",
    "    veh0105 = veh0105[veh0105['Fuel [note 2]'] != 'Total']\n",
    "    veh0105 = veh0105[veh0105['Keepership [note 3]'] != 'Total']\n",
    "    veh0105 = veh0105[veh0105['ONS Code [note 6]'] == lad_code]\n",
    "    veh0105.drop(columns=['ONS Sort [note 6]', 'ONS Code [note 6]'], inplace=True)\n",
    "    veh0105.rename(columns={'Fuel [note 2]': 'Fuel', 'Keepership [note 3]': 'Keepership'}, inplace=True)\n",
    "    veh0105 = veh0105.melt(id_vars=['BodyType', 'Fuel', 'Keepership'])\n",
    "    veh0105['value'] = veh0105.value.apply(lambda x: pd.to_numeric(x, errors='coerce'))\n",
    "    veh0105['variable'] = pd.PeriodIndex(veh0105['variable'].apply(lambda x: x.replace(' ', '-')), freq='Q').to_timestamp()\n",
    "    veh0105['value'] = veh0105['value'].apply(lambda x: x*1000)\n",
    "    \n",
    "    # Now import VEH0142\n",
    "    veh0142 = pd.read_excel('data/veh0142.ods', sheet_name='VEH0142', header=4)\n",
    "    veh0142.drop(columns=['Units', 'ONS Geography [note 6]'], inplace=True)\n",
    "    veh0142 = veh0142[veh0142['Fuel'] != 'Total']\n",
    "    veh0142 = veh0142[veh0142['BodyType'] != 'Total']\n",
    "    veh0142 = veh0142[veh0142['Keepership [note 3]'] != 'Total']\n",
    "    veh0142 = veh0142[veh0142['ONS Code [note 6]'] == lad_code]\n",
    "    veh0142.drop(columns=['ONS Sort [note 6]', 'ONS Code [note 6]'], inplace=True)\n",
    "    veh0142.rename(columns={'Fuel [note 2]': 'Fuel', 'Keepership [note 3]': 'Keepership'}, inplace=True)\n",
    "    veh0142 = veh0142.melt(id_vars=['Fuel', 'Keepership', 'BodyType'])\n",
    "    veh0142['value'] = veh0142.value.apply(lambda x: pd.to_numeric(x, errors='coerce'))\n",
    "    veh0142['variable'] = pd.PeriodIndex(veh0142['variable'].apply(lambda x: x.replace(' ', '-')), freq='Q').to_timestamp()\n",
    "    \n",
    "    pc = pd.concat([veh0142, veh0105])\n",
    "    pc['variable'] = pc.variable.apply(pd.to_datetime)\n",
    "    pc = pc.groupby(['variable', 'BodyType', 'Fuel']).sum().reset_index(['BodyType', 'Fuel'])\n",
    "    pc['Fuel'] = pc.Fuel.apply(ft_cleaner_dft)\n",
    "    pc = pc.reset_index().groupby(['variable', 'BodyType', 'Fuel']).sum().reset_index(['BodyType', 'Fuel'])\n",
    "    \n",
    "    pc.to_csv('data/uk_vehicle_parc.csv')\n",
    "    \n",
    "else:\n",
    "    pc = pd.read_csv('data/uk_vehicle_parc.csv', index_col=0)\n",
    "    pc.index = pd.to_datetime(pc.index)"
   ]
  },
  {
   "cell_type": "code",
   "execution_count": 8,
   "id": "eb9337db-14a1-48e5-96f8-e7489949c1cb",
   "metadata": {},
   "outputs": [],
   "source": [
    "cars = pc[pc.BodyType == bodyType].pivot(columns='Fuel', values='value').resample('Y').last()"
   ]
  },
  {
   "cell_type": "code",
   "execution_count": 9,
   "id": "4b4d46c3-471c-40dd-a56d-59d8b207dff6",
   "metadata": {},
   "outputs": [
    {
     "data": {
      "text/plain": [
       "<AxesSubplot:xlabel='variable'>"
      ]
     },
     "execution_count": 9,
     "metadata": {},
     "output_type": "execute_result"
    },
    {
     "data": {
      "image/png": "[encoded data removed]",
      "text/plain": [
       "<Figure size 432x288 with 1 Axes>"
      ]
     },
     "metadata": {
      "needs_background": "light"
     },
     "output_type": "display_data"
    }
   ],
   "source": [
    "cars.plot()"
   ]
  },
  {
   "cell_type": "markdown",
   "id": "71729471-263c-43a9-988f-5680b00d80ea",
   "metadata": {},
   "source": [
    "### 1.3 Average Car Milaege\n",
    "\n",
    "We want to know how annual mileage is changing in Wales. This was calculated using a query 'Annual Welsh Car Mileage by Fueltype', which is saved in BigQuery. That query essentially takes a selection of vehicles that have had an MOT in a Welsh postcode district, and then calculates its annual mileage, which is then allocated to a year (imperfectly). Lastly, we group them by a particular set of fueltypes (Petrol, Diesel and Electric, with hybrids grouped into Petrol) and the mean is calculated. \n",
    "\n",
    "A note on this. Why do we take the mean? We want to know things about the total demand for vehicle miles (perhaps) more than the behaviour of particular outliers. Knowing the total number of vehicles and the average mileage gives us a good indication of this. It may limit our ability to consider how targeting high miler vehicles might accelerate the transition, but there will be some possibility to consider a reduction in the average mileage driven by fossil fuel. Also, the MOT database does not give us a complete picture of the whole vehicle parc, since it misses young vehicles. So using it a bit like a survey, taking the mean, and using that in conjunction with the total number of vehicles, seems like it could be a sensible approach. "
   ]
  },
  {
   "cell_type": "code",
   "execution_count": 13,
   "id": "bd65b39d-127a-4d9e-ba40-dad4fd55efa4",
   "metadata": {},
   "outputs": [],
   "source": [
    "# %%bigquery mm --project rugged-baton-283921\n",
    "# SELECT fuelType, completedYear as year, AVG(avg_mileage) as annual_mileage\n",
    "# FROM rugged-baton-283921.Index.Annual_mileage_fueltype\n",
    "# WHERE registration IN (SELECT registrationNumber FROM VES_dataset.VRN_UK WHERE typeApproval = 'N1')\n",
    "# GROUP BY fuelType, completedYear"
   ]
  },
  {
   "cell_type": "code",
   "execution_count": 14,
   "id": "32fc03e6-e8e1-4ffc-8bd9-86fc96e9cfd5",
   "metadata": {},
   "outputs": [],
   "source": [
    "mm = pd.read_csv('data/vans_average_mileage.csv')"
   ]
  },
  {
   "cell_type": "code",
   "execution_count": 15,
   "id": "eee31abd-8708-4a3e-ae26-c63d96bd5475",
   "metadata": {},
   "outputs": [],
   "source": [
    "mm['year'] = mm.year.apply(lambda x: pd.to_datetime(x, format='%Y'))\n",
    "mm = mm[(mm['annual_mileage'] > 0) & (mm['year'] > '2010-01-01')]\n",
    "mm = mm.pivot(index='year', columns='fuelType', values='annual_mileage')\n",
    "mm = mm.resample('Y').last()\n",
    "mm = mm[['Diesel', 'Petrol', 'Pure electric']].rename(columns={'Diesel': 'Diesel_miles', 'Petrol': 'Petrol_miles', 'Pure electric': 'Electric_miles'})"
   ]
  },
  {
   "cell_type": "code",
   "execution_count": 46,
   "id": "b6374f49-384c-4fa2-b3e2-b1d1b27024f1",
   "metadata": {},
   "outputs": [
    {
     "data": {
      "text/plain": [
       "<AxesSubplot:xlabel='year'>"
      ]
     },
     "execution_count": 46,
     "metadata": {},
     "output_type": "execute_result"
    },
    {
     "data": {
      "image/png": "[encoded data removed]",
      "text/plain": [
       "<Figure size 432x288 with 1 Axes>"
      ]
     },
     "metadata": {
      "needs_background": "light"
     },
     "output_type": "display_data"
    }
   ],
   "source": [
    "mm.plot()"
   ]
  },
  {
   "cell_type": "markdown",
   "id": "3ed44c27-a78f-4207-906b-98c27400d4f5",
   "metadata": {},
   "source": [
    "### 1.4 Traffic Data\n",
    "\n",
    "This gets GB data unless a valid region code is specified. LAD-level data is available from DfT, too, from a different endpoint. "
   ]
  },
  {
   "cell_type": "code",
   "execution_count": 17,
   "id": "758d8352-96ed-40a3-8864-b15590013bdc",
   "metadata": {},
   "outputs": [],
   "source": [
    "# r = requests.get('https://roadtraffic.dft.gov.uk/api/regions')\n",
    "# ons_codes = []\n",
    "# id_codes = []\n",
    "\n",
    "\n",
    "# for x in r.json():\n",
    "#     ons_codes.append(x['ons_code'])\n",
    "#     id_codes.append(x['id'])\n",
    "    \n",
    "# region_dict = dict(zip(id_codes, ons_codes))\n",
    "\n",
    "# try:\n",
    "#     url = 'https://roadtraffic.dft.gov.uk/api/traffic/regions/vehicle-type?filter[region_id]={}'.format(region_dict[lad_code])\n",
    "#     r = requests.get(url)\n",
    "#     tra = pd.DataFrame(r.json()['data'])\n",
    "#     tra['year'] = tra.year.apply(lambda x: pd.to_datetime(x, format='%Y'))\n",
    "\n",
    "#     tra.set_index('year', inplace=True)\n",
    "#     tra = tra.resample('Y').last()\n",
    "#     tra = tra.drop(columns=['id', 'region_id', 'ons_code', 'total_link_length_km', 'total_link_length_miles'])\n",
    "    \n",
    "# except:\n",
    "    \n",
    "#     url = 'https://roadtraffic.dft.gov.uk/api/charts/traffic/annual/vehicle-type'\n",
    "#     r = requests.get(url)\n",
    "#     new_data = []\n",
    "#     idx = []\n",
    "#     names = []\n",
    "\n",
    "\n",
    "#     data = r.json()\n",
    "\n",
    "#     for d in data:\n",
    "#         idx = [x[0] for x in d['data']]\n",
    "#         names.append(d['id'])\n",
    "#         new_data.append([x[1] for x in d['data']])\n",
    "\n",
    "#     tra = pd.DataFrame(index=names, columns=idx, data=new_data).T\n",
    "#     tra.index = pd.to_datetime(tra.index, format='%Y')\n",
    "#     tra = tra.resample('Y').last()\n",
    "#     tra = tra *1000000000"
   ]
  },
  {
   "cell_type": "code",
   "execution_count": 18,
   "id": "df2b9d22-df29-4428-885b-b989691b20b1",
   "metadata": {},
   "outputs": [],
   "source": [
    "# r = requests.get('https://roadtraffic.dft.gov.uk/api/traffic/regions/vehicle-type?filter[region_id]=4')\n",
    "# # r = requests.get(url)\n",
    "# tra = pd.DataFrame(r.json()['data'])\n",
    "# tra['year'] = tra.year.apply(lambda x: pd.to_datetime(x, format='%Y'))\n",
    "\n",
    "# tra.set_index('year', inplace=True)\n",
    "# tra = tra.resample('Y').last()\n",
    "# tra = tra.drop(columns=['id', 'region_id', 'ons_code', 'total_link_length_km', 'total_link_length_miles'])"
   ]
  },
  {
   "cell_type": "code",
   "execution_count": 19,
   "id": "9eb732be-9a48-4b40-9b5a-2ce2ddf041b4",
   "metadata": {},
   "outputs": [],
   "source": [
    "# tra.plot()"
   ]
  },
  {
   "cell_type": "markdown",
   "id": "448cea05-87c9-4b54-b365-0ee68a0b861d",
   "metadata": {},
   "source": [
    "### 1.5 Vehicle Additions\n",
    "\n",
    "We use VEH1153 to get newly registered vehicles. \n",
    "\n",
    "<!-- This is possibly the hardest bit. This SQL Query gives us the number of vehicles with an expiryDate on their MOT test that's in the past (before January 2023, to account for people forgetting to renew their MOT certificates). \n",
    "\n",
    "We're going to use ECC data and then use parc data to get the vehicle retirements and additions. \n",
    "\n",
    "It's important to note that Wales is very close to England (!) so we might lose vehicles through cars being driven across the border and sold there.  -->"
   ]
  },
  {
   "cell_type": "code",
   "execution_count": 20,
   "id": "283ccf8e-b503-4e13-8778-31954c44bcf0",
   "metadata": {},
   "outputs": [],
   "source": [
    "# nrg = pd.read_excel('data/veh1153.ods', sheet_name='VEH1153a_RoadUsing', header=4)\n",
    "# nrg.columns = [re.sub('\\[note \\d\\]', '', x) for x in nrg.columns]\n",
    "# nrg.columns = [x.strip() for x in nrg.columns]\n",
    "\n",
    "# ecc = nrg[\n",
    "#     (nrg.Geography == 'Wales') &\n",
    "#     (nrg['Date Interval'] == 'Monthly') &\n",
    "#     (nrg.Units == \"Thousands\") &\n",
    "#     (nrg.BodyType == \"Cars\")\n",
    "# ]\n",
    "\n",
    "# ecc['Date'] = ecc['Date'].apply(pd.to_datetime)\n",
    "\n",
    "# # ecc = ecc.set_index('Date')\n",
    "\n",
    "# ecc = ecc.drop(columns=['Total', 'Plug-in', 'Zero emission'])\n",
    "\n",
    "\n",
    "# ecc = ecc.melt(id_vars=['Date', 'Geography', 'Date Interval', 'Units', 'BodyType'], value_vars=ecc.columns[5:]).rename(columns={'variable': 'fuelType'})\n",
    "\n",
    "# ecc['fuelType'] = ecc.fuelType.apply(ft_cleaner_dft)\n",
    "# ecc = ecc.groupby(['Date', 'fuelType']).sum().reset_index(['fuelType']).pivot(columns='fuelType').resample('Y').sum()\n",
    "# ecc.columns = [x[1] for x in ecc.columns]\n",
    "# ecc = 1000*ecc\n",
    "\n",
    "# ecc.to_csv('data/new_registrations.csv')"
   ]
  },
  {
   "cell_type": "code",
   "execution_count": 29,
   "id": "b49ecfe6-91bd-4868-a0ee-dbf5f06893b6",
   "metadata": {},
   "outputs": [
    {
     "name": "stderr",
     "output_type": "stream",
     "text": [
      "/Users/ben/opt/anaconda3/envs/tf/lib/python3.7/site-packages/ipykernel_launcher.py:23: SettingWithCopyWarning: \n",
      "A value is trying to be set on a copy of a slice from a DataFrame.\n",
      "Try using .loc[row_indexer,col_indexer] = value instead\n",
      "\n",
      "See the caveats in the documentation: https://pandas.pydata.org/pandas-docs/stable/user_guide/indexing.html#returning-a-view-versus-a-copy\n"
     ]
    }
   ],
   "source": [
    "if not os.path.isfile('data/new_registrations.csv'):\n",
    "\n",
    "    nrg = pd.read_excel('data/veh1153.ods', sheet_name='VEH1153a_RoadUsing', header=4)\n",
    "    nrg.columns = [re.sub('\\[note \\d\\]', '', x) for x in nrg.columns]\n",
    "    nrg.columns = [x.strip() for x in nrg.columns]\n",
    "    \n",
    "    nrg.to_csv('data/new_registrations.csv')\n",
    "else:\n",
    "    nrg = pd.read_csv('data/new_registrations.csv', index_col=0)\n",
    "\n",
    "if geography_name == 'United Kingdom':\n",
    "    geography_name_adj ='Great Britain'\n",
    "else:\n",
    "    geography_name_adj = geography_name\n",
    "\n",
    "ecc = nrg[\n",
    "    (nrg.Geography == geography_name_adj) &\n",
    "    (nrg['Date Interval'] == 'Monthly') &\n",
    "    (nrg.Units == \"Thousands\") &\n",
    "    (nrg.BodyType == bodyType)\n",
    "]\n",
    "\n",
    "ecc['Date'] = ecc['Date'].apply(pd.to_datetime)\n",
    "\n",
    "# ecc = ecc.set_index('Date')\n",
    "\n",
    "ecc = ecc.drop(columns=['Total', 'Plug-in', 'Zero emission'])\n",
    "\n",
    "\n",
    "ecc = ecc.melt(id_vars=['Date', 'Geography', 'Date Interval', 'Units', 'BodyType'], value_vars=ecc.columns[5:]).rename(columns={'variable': 'fuelType'})\n",
    "\n",
    "ecc['fuelType'] = ecc.fuelType.apply(ft_cleaner_dft)\n",
    "ecc = ecc.groupby(['Date', 'fuelType']).sum().reset_index(['fuelType']).pivot(columns='fuelType').resample('Y').sum()\n",
    "ecc.columns = [x[1] for x in ecc.columns]\n",
    "ecc = 1000*ecc"
   ]
  },
  {
   "cell_type": "code",
   "execution_count": 30,
   "id": "62d854e1-8b0a-4f99-8b9e-36498ce32d19",
   "metadata": {},
   "outputs": [],
   "source": [
    "ni = pd.read_csv('data/ni_new_vans.csv')"
   ]
  },
  {
   "cell_type": "code",
   "execution_count": 31,
   "id": "64120ad5-3440-4f5c-b90d-8750316abef8",
   "metadata": {},
   "outputs": [],
   "source": [
    "ni['fuelType'] = ni.fuelType.apply(ft_cleaner)\n",
    "niw = ni.groupby(['monthOfFirstRegistration', 'fuelType']).sum().reset_index('fuelType').pivot(columns='fuelType', values='total')\n",
    "niw.index = pd.to_datetime(niw.index, utc=None)\n",
    "niw.index = niw.index.tz_localize(None)\n",
    "niw = niw.resample('Y').last()\n",
    "ecc = (ecc + niw)"
   ]
  },
  {
   "cell_type": "code",
   "execution_count": 32,
   "id": "0179d5ce-bcaa-447f-b356-436b51df2702",
   "metadata": {},
   "outputs": [
    {
     "data": {
      "text/plain": [
       "<AxesSubplot:xlabel='Date'>"
      ]
     },
     "execution_count": 32,
     "metadata": {},
     "output_type": "execute_result"
    },
    {
     "data": {
      "image/png": "[encoded data removed]",
      "text/plain": [
       "<Figure size 432x288 with 1 Axes>"
      ]
     },
     "metadata": {
      "needs_background": "light"
     },
     "output_type": "display_data"
    }
   ],
   "source": [
    "ecc.plot()"
   ]
  },
  {
   "cell_type": "markdown",
   "id": "ca83bfa3-dbd1-40c6-8cd7-a91453b96a8e",
   "metadata": {},
   "source": [
    "### 1.6 UK emissions\n",
    "\n",
    "This is really what we are trying to estimate. The National Atmospheric Emissions Inventory tots up total territorial emissions, and publishes them. "
   ]
  },
  {
   "cell_type": "code",
   "execution_count": 33,
   "id": "3838ab26-eff3-4200-98b7-1ea0de370198",
   "metadata": {},
   "outputs": [],
   "source": [
    "em = pd.read_excel('data/2209201114_DA_GHGI_1990-2020_Final_v4.1_AR4_AR5.xlsm', sheet_name='{} By Source_AR5'.format(geography_abbreviation), header=16, usecols='B:AC')\n",
    "em['NCFormat'] = em.NCFormat.fillna(method='ffill')\n",
    "em = em.melt(id_vars=['NCFormat', 'IPCC_name'])\n",
    "em = em[em.variable != 'BaseYear']\n",
    "em['variable']=em['variable'].apply(pd.to_datetime)\n",
    "emt = em[em.NCFormat == 'Transport']\n",
    "emt = emt.pivot(index='variable', columns='IPCC_name', values='value')\n",
    "# emt.T.sort_values('2019-01-01', ascending=False)[['2016-01-01', '2017-01-01', '2018-01-01', '2019-01-01', '2020-01-01']]\n",
    "\n",
    "# emt.to_csv('outputs/transport_subsectors.csv')"
   ]
  },
  {
   "cell_type": "code",
   "execution_count": 34,
   "id": "35ade423-f3ec-4a24-8ac5-1423012ff2ad",
   "metadata": {},
   "outputs": [
    {
     "data": {
      "text/plain": [
       "['1A3a_Domestic_aviation',\n",
       " '1A3bi_Cars',\n",
       " '1A3bii_Light_duty_trucks',\n",
       " '1A3biii_Heavy_duty_trucks_and_buses',\n",
       " '1A3biv_Motorcycles',\n",
       " '1A3bv_Other_road_transport',\n",
       " '1A3c_Railways',\n",
       " '1A3d_Domestic_navigation',\n",
       " '1A3eii_Other_Transportation',\n",
       " '1A4ai_Commercial/Institutional',\n",
       " '1A4ciii_Fishing',\n",
       " '1A5b_Other:Mobile',\n",
       " '2D1_Lubricant_Use',\n",
       " '2D3_Non-energy_products_from_fuels_and_solvent_use:Other']"
      ]
     },
     "execution_count": 34,
     "metadata": {},
     "output_type": "execute_result"
    }
   ],
   "source": [
    "emt.columns.tolist()"
   ]
  },
  {
   "cell_type": "markdown",
   "id": "d9bc8d45-d65a-43ee-a0fc-632b2214381b",
   "metadata": {},
   "source": [
    "## Part 2: Modelling and Estimating: Vans\n",
    "\n",
    "The drivers of emissions are many and become quickly complicated. We'll start with the number of vehicles, annual mileage, fuel consumption, calculate fuel economy, and then create a simple way of plugging in fleet, mileage, and consumption numbers to get an emissions estimate. \n",
    "\n",
    "We'll load all these inputs into one dataframe, `df`. "
   ]
  },
  {
   "cell_type": "markdown",
   "id": "7ed78244-142a-4a3a-84db-12c0ec0e5e5d",
   "metadata": {},
   "source": [
    "### 2.1 Van Parc & Miles Driven"
   ]
  },
  {
   "cell_type": "code",
   "execution_count": 35,
   "id": "d10bf20a-b5e2-4e92-a1b9-fe98cf474471",
   "metadata": {},
   "outputs": [],
   "source": [
    "# cars = pc[pc.BodyType == 'Cars'].pivot(columns='Fuel', values='value').resample('Y').last()"
   ]
  },
  {
   "cell_type": "code",
   "execution_count": 36,
   "id": "b0fdbca2-894f-47b8-a154-ff5fb3507740",
   "metadata": {},
   "outputs": [],
   "source": [
    "df = cars.merge(mm, how='left', left_index=True, right_index=True)\n",
    "df = df[df.index > '2013-12-31']"
   ]
  },
  {
   "cell_type": "code",
   "execution_count": 37,
   "id": "f66c911a-8031-4299-b8a0-e29b3de5e145",
   "metadata": {},
   "outputs": [],
   "source": [
    "# calculate total VMT by fuel type\n",
    "\n",
    "df['diesel_vmt'] = df.apply(lambda row: row['Diesel'] * row['Diesel_miles'], axis=1)\n",
    "df['petrol_vmt'] = df.apply(lambda row: row['Petrol'] * row['Petrol_miles'], axis=1)\n",
    "df['electric_vmt'] = df.apply(lambda row: row['Pure Electric'] * row['Electric_miles'], axis=1)"
   ]
  },
  {
   "cell_type": "code",
   "execution_count": 39,
   "id": "8c9a5f34-fecc-4f1a-aa42-0b949dbfbb85",
   "metadata": {},
   "outputs": [
    {
     "data": {
      "image/png": "[encoded data removed]",
      "text/plain": [
       "<Figure size 432x288 with 1 Axes>"
      ]
     },
     "metadata": {
      "needs_background": "light"
     },
     "output_type": "display_data"
    }
   ],
   "source": [
    "fig, ax = plt.subplots()\n",
    "\n",
    "df[['diesel_vmt', 'petrol_vmt', 'electric_vmt']].plot(ax=ax)\n",
    "ax.set_title('Vehicle Miles Travelled by Powertrain')\n",
    "ax.set_ylabel('Billion Vehicle Miles')\n",
    "ax.set_xlabel('Year')\n",
    "\n",
    "plt.show()"
   ]
  },
  {
   "cell_type": "markdown",
   "id": "bc661636-58da-427e-a329-ddf123a471b6",
   "metadata": {},
   "source": [
    "### 2.2 Adding in fuel consumption"
   ]
  },
  {
   "cell_type": "code",
   "execution_count": 40,
   "id": "23cc6191-4e42-4e7e-bc53-5512a2746347",
   "metadata": {},
   "outputs": [],
   "source": [
    "# fc[['Diesel cars total', 'Petrol cars total']].rename(columns={\n",
    "#     'Diesel cars total': 'car_diesel_consumption',\n",
    "#     'Petrol cars total': 'car_petrol_consumption'\n",
    "# }).resample('Y').last()"
   ]
  },
  {
   "cell_type": "code",
   "execution_count": 52,
   "id": "9caf9393-e1f1-4d70-b2c9-61dee71423f4",
   "metadata": {},
   "outputs": [],
   "source": [
    "df = df.merge(fc[['Diesel LGV total', 'Petrol LGV total']].rename(columns={\n",
    "    'Diesel LGV total': 'diesel_consumption',\n",
    "    'Petrol LGV total': 'petrol_consumption'\n",
    "}).resample('Y').last(),\n",
    "        how='left',\n",
    "        left_index=True,\n",
    "        right_index=True)"
   ]
  },
  {
   "cell_type": "markdown",
   "id": "133da81d-63ac-46dd-ae21-a3cdaa8d2d9a",
   "metadata": {},
   "source": [
    "Petrol and diesel consumption are currently in kilotonnes of oil equivalent. Let's do some processing to make them into something a bit nicer - gallons. \n",
    "\n",
    "We're going to multiply petrol and diesel consumption by 1000 to get tonnes of oil equivalent. Then to get to something a bit nicer, we'll use conversion factors from Eurostat (https://ec.europa.eu/eurostat/statistics-explained/index.php?title=Glossary:Tonnes_of_oil_equivalent_(toe)) to get cubic metres, then from that we can convert them to gallons and calculate MPG. \n",
    "\n"
   ]
  },
  {
   "cell_type": "code",
   "execution_count": 53,
   "id": "da299496-7cae-4ed5-ae5c-021a2d0dd05f",
   "metadata": {},
   "outputs": [],
   "source": [
    "df['diesel_consumption_gallons'] = df.diesel_consumption.apply(lambda x: ((1000*x)/.98) * 219.969)\n",
    "\n",
    "# NB that petrol has a different conversion factor. Tonnes of oil equivalent is essentially the energy content of the fuel, and diesel is more energy-dense. \n",
    "df['petrol_consumption_gallons'] = df.petrol_consumption.apply(lambda x: ((1000*x)/.86) * 219.969)"
   ]
  },
  {
   "cell_type": "markdown",
   "id": "3bd43623-ffe6-4c7c-b23a-a2d2b04ec8ce",
   "metadata": {},
   "source": [
    "Now calculate fuel economy. "
   ]
  },
  {
   "cell_type": "code",
   "execution_count": 54,
   "id": "41819964-8cff-4a70-be75-791fd7df20c4",
   "metadata": {},
   "outputs": [],
   "source": [
    "df['petrol_economy'] = df.apply(lambda row: row['petrol_vmt'] / row['petrol_consumption_gallons'] , axis=1)\n",
    "df['diesel_economy'] = df.apply(lambda row: row['diesel_vmt'] / row['diesel_consumption_gallons'], axis=1)"
   ]
  },
  {
   "cell_type": "code",
   "execution_count": 55,
   "id": "842e5079-765e-4832-8409-8d7755be4d80",
   "metadata": {},
   "outputs": [
    {
     "data": {
      "text/plain": [
       "<AxesSubplot:xlabel='variable'>"
      ]
     },
     "execution_count": 55,
     "metadata": {},
     "output_type": "execute_result"
    },
    {
     "data": {
      "image/png": "[encoded data removed]",
      "text/plain": [
       "<Figure size 432x288 with 1 Axes>"
      ]
     },
     "metadata": {
      "needs_background": "light"
     },
     "output_type": "display_data"
    }
   ],
   "source": [
    "# fig, ax = plt.subplots(figsize=(12, 8))\n",
    "\n",
    "df[['petrol_economy', 'diesel_economy']].plot()\n",
    "# ax.set_title('Calculated Car Fuel Economy')\n",
    "# ax.set_ylabel('Miles Per Gallon')\n",
    "# ax.set_xlabel('Year')\n",
    "\n",
    "# # ax.text(x=50, y=40, s='Large increase in\\nfuel economy could \\nbe due to less traffic \\nduring lockdowns.')\n",
    "\n",
    "# plt.show()"
   ]
  },
  {
   "cell_type": "markdown",
   "id": "ad9ff4b6-43ad-48af-b80b-4d213ecabaef",
   "metadata": {},
   "source": [
    "### 2.3 Calculate Emissions from Fuel Consumption\n",
    "\n",
    "The first step here is to convert toe diesel and petrol consumption to an estimation of CO2e, using a conversion factor available from the government. This is the UK government's preferred emission factor for businesses and government departments. They are available here: https://www.gov.uk/government/publications/greenhouse-gas-reporting-conversion-factors-2022\n",
    "\n",
    "To make this calculations, we multiply fuel consumption by 1000 to get the toe, then we convert the toe to kwh, then we convert the kwh to kgCO2e using a conversion factor from the spreadsheet above. \n",
    "\n",
    "The conversion factors used are:\n",
    "* Petrol - 'Petrol average biofuel blend' - kWh (Gross CV) - .22719\n",
    "* Diesel - 'Diesel average biofuel blend' - kWh (Gross CV) - .24115"
   ]
  },
  {
   "cell_type": "code",
   "execution_count": 56,
   "id": "3fcf42ad-1305-46fa-8682-52694164aa5a",
   "metadata": {},
   "outputs": [],
   "source": [
    "# It seems the govt put out different factors every year. Not sure why this would change. \n",
    "# # Conversion factors from 2021\n",
    "# df['diesel_emissions'] = df.car_diesel_consumption.apply(lambda x: ((1000*x)*11629.9998357937)*.23686)\n",
    "# df['petrol_emissions'] = df.car_petrol_consumption.apply(lambda x: ((1000*x)*11629.9998357937)*.22980)\n",
    "\n",
    "# # 2020 factors\n",
    "# df['diesel_emissions'] = df.car_diesel_consumption.apply(lambda x: ((1000*x)*11629.9998357937)*.24057)\n",
    "# df['petrol_emissions'] = df.car_petrol_consumption.apply(lambda x: ((1000*x)*11629.9998357937)*.2292)\n",
    "\n",
    "# 2022 factors\n",
    "df['diesel_emissions'] = df.diesel_consumption.apply(lambda x: ((1000*x)*11629.9998357937)*.24115)\n",
    "df['petrol_emissions'] = df.petrol_consumption.apply(lambda x: ((1000*x)*11629.9998357937)*.22719)"
   ]
  },
  {
   "cell_type": "code",
   "execution_count": 57,
   "id": "02cc8006-7dcc-4af7-b3bf-d1bc72228d81",
   "metadata": {},
   "outputs": [
    {
     "data": {
      "image/png": "[encoded data removed]",
      "text/plain": [
       "<Figure size 432x288 with 1 Axes>"
      ]
     },
     "metadata": {
      "needs_background": "light"
     },
     "output_type": "display_data"
    }
   ],
   "source": [
    "fig, ax = plt.subplots()\n",
    "\n",
    "df[[\n",
    "    'diesel_emissions', \n",
    "    'petrol_emissions', \n",
    "#     'diesel_emissions_2021', \n",
    "#     'petrol_emissions_2021'\n",
    "]].plot(ax=ax)\n",
    "\n",
    "ax.set_title('Calculated Emissions')\n",
    "ax.set_ylabel('Emissions kgCO2e')\n",
    "ax.set_xlabel('Year')\n",
    "\n",
    "# plt.savefig('plots/')\n",
    "plt.show()"
   ]
  },
  {
   "cell_type": "markdown",
   "id": "947b81bb-ee2c-40df-8542-b46e0f23b39c",
   "metadata": {},
   "source": [
    "### 2.4 Comparison with Official NAEI Emissions"
   ]
  },
  {
   "cell_type": "code",
   "execution_count": 58,
   "id": "1dca768a-0594-4711-8a6b-0ae890057369",
   "metadata": {},
   "outputs": [],
   "source": [
    "df['total_kgCO2e_calc'] = df.apply(lambda row: row['diesel_emissions'] + row['petrol_emissions'], axis=1)\n",
    "# df['total_kgCO2e_calc_2021'] = df.apply(lambda row: row['diesel_emissions_2021'] + row['petrol_emissions_2021'], axis=1)"
   ]
  },
  {
   "cell_type": "code",
   "execution_count": 59,
   "id": "62272a6d-28e0-4b8c-95a4-2355528c1138",
   "metadata": {},
   "outputs": [],
   "source": [
    "df = df.merge(emt.resample('Y').last()[['1A3bii_Light_duty_trucks']]*1000000, how='left', left_index=True, right_index=True)"
   ]
  },
  {
   "cell_type": "code",
   "execution_count": 60,
   "id": "316f5fe1-c1bf-4453-8185-a17c133cf694",
   "metadata": {},
   "outputs": [
    {
     "data": {
      "image/png": "[encoded data removed]",
      "text/plain": [
       "<Figure size 432x288 with 1 Axes>"
      ]
     },
     "metadata": {
      "needs_background": "light"
     },
     "output_type": "display_data"
    }
   ],
   "source": [
    "fig, ax = plt.subplots()\n",
    "ax.plot(df.resample('YS').first().total_kgCO2e_calc, c='r', label='Modelled Emissions')\n",
    "# ax.plot(df.resample('YS').first().total_kgCO2e_calc_2021, c='g', label='Modelled Emissions_2021')\n",
    "ax.plot(df.resample('YS').first()['1A3bii_Light_duty_trucks'], c='b', label='NAEI Emissions')\n",
    "# NB: resample above is just so that on the plot it displays emissions in that year directly above that year. So just for display purposes. \n",
    "\n",
    "ax.legend()\n",
    "\n",
    "ax.set_ylabel('Emissions kgCO2e')\n",
    "ax.set_xlabel('Year')\n",
    "ax.set_title('Modelled vs Actual Emissions')\n",
    "# plt.savefig('plots/accuracy_calc.png', dpi=300, transparent=False, bbox_inches='tight', facecolor='white')\n",
    "plt.show()"
   ]
  },
  {
   "cell_type": "code",
   "execution_count": 61,
   "id": "8b499d77-3a76-453d-82c5-0afdfc9f08b6",
   "metadata": {},
   "outputs": [],
   "source": [
    "df['error'] = df['total_kgCO2e_calc'] / df['1A3bii_Light_duty_trucks']"
   ]
  },
  {
   "cell_type": "code",
   "execution_count": 62,
   "id": "f9a9fb27-cd47-48a6-b43b-9919d1671f86",
   "metadata": {},
   "outputs": [
    {
     "data": {
      "image/png": "[encoded data removed]",
      "text/plain": [
       "<Figure size 432x288 with 1 Axes>"
      ]
     },
     "metadata": {
      "needs_background": "light"
     },
     "output_type": "display_data"
    }
   ],
   "source": [
    "fig, ax = plt.subplots()\n",
    "\n",
    "df.error.plot(ax=ax)\n",
    "ax.set_title('Measuring inaccuracy between emissions \\nfrom fuel consumption & NAEI outturn')\n",
    "ax.set_xlabel('Year')\n",
    "plt.savefig('plots/accuracy_ratio.png', dpi=300, transparent=False, bbox_inches='tight', facecolor='white')\n",
    "plt.show()"
   ]
  },
  {
   "cell_type": "markdown",
   "id": "84238da5-82b5-4077-8c48-e87b3e95e964",
   "metadata": {},
   "source": [
    "It looks like we are usually within a 5 percentage point margin of error. That's probably tolerable. "
   ]
  },
  {
   "cell_type": "markdown",
   "id": "a498275d-5297-4131-9ce5-ced9d9dceee1",
   "metadata": {},
   "source": [
    "## Part 3: Scenario-ing"
   ]
  },
  {
   "cell_type": "markdown",
   "id": "34adbe57-1897-4c84-9370-5b0b53ec1796",
   "metadata": {},
   "source": [
    "In this section, I am going to create some new scenarios and forecast what it might look like. \n",
    "\n",
    "Our forecast will be built into dataframe `dfp`\n",
    "\n",
    "### 3.1 Scenario A: Car market growing according to trend, growth in line with ZEV mandate. \n",
    "\n",
    "Fleet changes will come about as:\n",
    "* Retirements among petrol and diesel cars track new registrations a number of years previously (see above - 15 to 20 years). \n",
    "* Overall sales of vehicles stay at their current 10-year average, of around 85,000 cars. \n",
    "* Non-zev sales divide roughly 15:1 between petrol and diesel\n",
    "* Sales of new petro and diesel cars decline as electric cars grow. \n",
    "* Petrol and Diesel mileage return to the average of the 5 years before the pandemic. \n",
    "* Petrol and Diesel fuel economy remains roughly static at pre-pandemic levels. \n"
   ]
  },
  {
   "cell_type": "code",
   "execution_count": 63,
   "id": "51e321a2-633e-4837-ba0c-5a49f39bf31d",
   "metadata": {},
   "outputs": [],
   "source": [
    "# How many ICE sales should we allocate to diesel registrations? This just takes the last year's diesel share of ICE sales, i.e. 11%\n",
    "diesel_share_of_ice = ecc[['Diesel', 'Petrol']].div(ecc[['Diesel', 'Petrol']].sum(axis=1), axis=0).iloc[-1].Diesel"
   ]
  },
  {
   "cell_type": "code",
   "execution_count": 64,
   "id": "3b1c1439-1920-4bf8-9d4d-52507e0d2733",
   "metadata": {},
   "outputs": [
    {
     "data": {
      "text/plain": [
       "0.9700494116149126"
      ]
     },
     "execution_count": 64,
     "metadata": {},
     "output_type": "execute_result"
    }
   ],
   "source": [
    "diesel_share_of_ice"
   ]
  },
  {
   "cell_type": "code",
   "execution_count": 65,
   "id": "99efce62-6660-4c3d-bcef-64565f1583f6",
   "metadata": {},
   "outputs": [],
   "source": [
    "# Vehicle retirements\n",
    "ret = ecc.copy()\n",
    "# Retirements happen automatically after X years\n",
    "car_lifespan = 20\n",
    "ret.index = ecc.index+pd.DateOffset(years=car_lifespan)\n",
    "ret = ret.fillna(0)\n",
    "# ret.to_csv('data/retirements.csv')"
   ]
  },
  {
   "cell_type": "code",
   "execution_count": 66,
   "id": "70d16251-44f9-4b05-96af-1b34d49d3617",
   "metadata": {},
   "outputs": [],
   "source": [
    "start = '2023-12-31'\n",
    "end = '2050-12-31'\n",
    "\n",
    "new_index = pd.date_range(start=start, end=end, freq='Y')\n",
    "dfp = pd.DataFrame(index=new_index)\n",
    "years = dfp.index\n",
    "\n",
    "# Overal market size\n",
    "total_annual_sales = []\n",
    "sales = ecc.sum(axis=1).iloc[-5:].mean()\n",
    "# sales = 1500000\n",
    "# sales = ecc.sum(axis=1).mean()\n",
    "\n",
    "# By chosing all but the last 3 years, we're taking pre-pandemic growth\n",
    "growth = 1 #+ ecc.sum(axis=1).iloc[12:-5].pct_change().mean()\n",
    "\n",
    "for year in years:\n",
    "    sales *= growth\n",
    "    total_annual_sales.append(sales)\n",
    "\n",
    "zev_trajectory = []\n",
    "\n",
    "# i.e. ZEVs continue to constitute 8% of registrations from here on\n",
    "# zev_mandate = [.08 for x in years]\n",
    "\n",
    "# `zev_mandate` is the trajectory set out by DfT except for the first year (2023) which has no percentage target. \n",
    "zev_mandate = [.15, .22, .28, .33, .38, .52, .66, .80, .84, .88, .92, .96, 1]\n",
    "for i, e in enumerate(years):\n",
    "    try:\n",
    "        zev_trajectory.append(zev_mandate[i])\n",
    "    except:\n",
    "        zev_trajectory.append(1)\n",
    "\n",
    "new_electric = []\n",
    "for i, e in enumerate(years):\n",
    "    new_electric.append(zev_trajectory[i] * total_annual_sales[i])\n",
    "\n",
    "\n",
    "total_ice_sales = []\n",
    "for i, e in enumerate(years):\n",
    "    total_ice_sales.append(total_annual_sales[i] - new_electric[i])\n",
    "\n",
    "\n",
    "new_diesel = []\n",
    "for i, e in enumerate(years):\n",
    "    new_diesel.append(total_ice_sales[i] * diesel_share_of_ice)\n",
    "\n",
    "new_petrol = []\n",
    "for i, e in enumerate(years):\n",
    "    new_petrol.append(total_ice_sales[i] - new_diesel[i])\n",
    "\n",
    "dfp['new_diesel'] = new_diesel\n",
    "dfp['new_petrol'] = new_petrol\n",
    "dfp['new_electric'] = new_electric"
   ]
  },
  {
   "cell_type": "code",
   "execution_count": 67,
   "id": "a2089d7c-3c3d-409f-82d8-e9cee1ac37b0",
   "metadata": {},
   "outputs": [],
   "source": [
    "diesel_parc = []\n",
    "petrol_parc = []\n",
    "electric_parc = []\n",
    "\n",
    "# Our starting values, which will be changed by the new registration statistics. \n",
    "diesel = cars.Diesel.iloc[-1]\n",
    "petrol = cars.Petrol.iloc[-1]\n",
    "electric = cars['Pure Electric'].iloc[-1]\n",
    "\n",
    "# _rets means a list of the number of cars that get retired each year, from that fueltype. \n",
    "# This is a bit complex. We take the number of retired cars as being the number registered X many years ago, where X is our estimate as to how long a typical car will live. \n",
    "# We take historic car registration statistics to calculate this. But there is an issue if we say that cars are going to live for 30 years, i.e. longer than our dataframe of new registrations. \n",
    "# We solve that issue by adding in Y number of years where 0 retirements happen, where Y is set at the number of years between the registrations. \n",
    "diesel_rets = [0 for x in list(range(round((ret.index.min() - pd.to_datetime(start)).days/365)))] + ret[ret.index >= start].Diesel.tolist() + new_diesel\n",
    "petrol_rets = [0 for x in list(range(round((ret.index.min() - pd.to_datetime(start)).days/365)))] + ret[ret.index >= start].Petrol.tolist() + new_petrol\n",
    "electric_rets = [0 for x in list(range(round((ret.index.min() - pd.to_datetime(start)).days/365)))] + ret[ret.index >= start]['Pure Electric'].tolist() + new_electric\n",
    "\n",
    "# Adjust the retirement rates for previously registered diesels\n",
    "# What is happening here is we are taking the sum of (the vehicles already in the parc, and the vehicles that we're projecting will be added to the parc),\n",
    "# then we are finding the difference between all the vehicles the model will remove from the parc. \n",
    "# i.e. We are fixing the problem of the model adding/removing too many vehicles\n",
    "# That difference needs to be accounted for. That is done so very simplistically (and controversially). If there is a 10% difference, then the retirements are all uplifted by 10%. \n",
    "left_over_diesels = (cars.Diesel.iloc[-1] + sum(new_diesel)) - sum(ret[ret.index >= start].Diesel.tolist() + new_diesel)\n",
    "diesel_retirement_factor = (left_over_diesels + sum(ret[ret.index >= start].Diesel.tolist() + new_diesel)) / sum(ret[ret.index >= start].Diesel.tolist() + new_diesel)\n",
    "diesel_rets = [diesel_retirement_factor*x for x in diesel_rets]\n",
    "\n",
    "left_over_petrols = (cars.Petrol.iloc[-1] + sum(new_petrol)) - sum(ret[ret.index >= start].Petrol.tolist() + new_petrol)\n",
    "petrol_retirement_factor = (left_over_petrols + sum(ret[ret.index >= start].Petrol.tolist() + new_petrol)) / sum(ret[ret.index >= start].Petrol.tolist() + new_petrol)\n",
    "petrol_rets = [petrol_retirement_factor*x for x in petrol_rets]\n",
    "\n",
    "# We need to adjust the number of diesel and petrol vehicles \n",
    "for i, e in enumerate(years):\n",
    "    diesel = round(diesel - (diesel_rets[i]-new_diesel[i]))\n",
    "    petrol = round(petrol - (petrol_rets[i]-new_petrol[i]))\n",
    "    electric = round(electric - (electric_rets[i]-new_electric[i]))\n",
    "    \n",
    "#     This is a little safeguard to prevent the parc ever from going negative, which it shouldn't, except as a result of a rounding error\n",
    "    if diesel >= 0:\n",
    "        diesel_parc.append(diesel)\n",
    "    else:\n",
    "        diesel_parc.append(0)\n",
    "    \n",
    "    if petrol >= 0:\n",
    "        petrol_parc.append(petrol)\n",
    "    else:\n",
    "        petrol_parc.append(0)\n",
    "    \n",
    "    if electric >= 0:\n",
    "        electric_parc.append(electric)\n",
    "    else:\n",
    "        electric_parc.append(0)"
   ]
  },
  {
   "cell_type": "code",
   "execution_count": 68,
   "id": "f3348e13-2f7a-4938-8f92-79ad5ad1bc6b",
   "metadata": {},
   "outputs": [],
   "source": [
    "# Assumptions about mileage\n",
    "\n",
    "# Simple static mileage taking the average\n",
    "diesel_mileage = df.Diesel_miles.iloc[-5:].mean()\n",
    "petrol_mileage = df.Petrol_miles.iloc[-5:].mean()\n",
    "electric_mileage = df.Electric_miles.iloc[-5:].mean() "
   ]
  },
  {
   "cell_type": "code",
   "execution_count": 69,
   "id": "09e1d1da-433e-498d-bca0-f43c39245faf",
   "metadata": {},
   "outputs": [],
   "source": [
    "# Assumptions about MPG\n",
    "\n",
    "diesel_mpg = df.iloc[:-3].diesel_economy.mean()\n",
    "petrol_mpg = df.iloc[:-3].petrol_economy.mean()"
   ]
  },
  {
   "cell_type": "code",
   "execution_count": 70,
   "id": "a9959321-68d0-4bbd-afa7-69bada31a5bd",
   "metadata": {},
   "outputs": [],
   "source": [
    "dfp['diesel'] = diesel_parc\n",
    "dfp['petrol'] = petrol_parc\n",
    "dfp['electric'] = electric_parc"
   ]
  },
  {
   "cell_type": "code",
   "execution_count": 71,
   "id": "573dd25d-69c5-465c-b637-5ea6ea5bdbbb",
   "metadata": {},
   "outputs": [
    {
     "data": {
      "image/png": "[encoded data removed]",
      "text/plain": [
       "<Figure size 720x1080 with 3 Axes>"
      ]
     },
     "metadata": {
      "needs_background": "light"
     },
     "output_type": "display_data"
    }
   ],
   "source": [
    "fig, [ax, ax2, ax3] = plt.subplots(3, 1, figsize=(10, 15))\n",
    "\n",
    "dfp[['diesel', 'electric', 'petrol']].plot(ax=ax)\n",
    "\n",
    "ax.set_title('Projected UK Van Parc')\n",
    "ax.set_ylabel('Cars')\n",
    "ax.set_xlabel('Year')\n",
    "\n",
    "dfp.sum(axis=1).plot(ax=ax2)\n",
    "\n",
    "ax2.set_title('Projected UK Van Parc Overall Size')\n",
    "ax2.set_ylabel('Cars')\n",
    "ax2.set_xlabel('Year')\n",
    "\n",
    "dfp[['new_diesel', 'new_electric', 'new_petrol']].plot(ax=ax3)\n",
    "\n",
    "ax3.set_title('Projected UK Vehicle Sales')\n",
    "ax3.set_ylabel('Cars')\n",
    "ax3.set_xlabel('Year')\n",
    "\n",
    "plt.show()"
   ]
  },
  {
   "cell_type": "markdown",
   "id": "99e681b6-66d7-4ff7-9a13-54957dceb6ca",
   "metadata": {},
   "source": [
    "Now we enter our mileage assumptions. "
   ]
  },
  {
   "cell_type": "code",
   "execution_count": 72,
   "id": "e9c85498-628b-4257-886b-e8d4333dffff",
   "metadata": {},
   "outputs": [],
   "source": [
    "dfp['diesel_miles'] = diesel_mileage #* .85\n",
    "dfp['petrol_miles'] = petrol_mileage #* .85\n",
    "dfp['electric_miles'] = electric_mileage #* .9"
   ]
  },
  {
   "cell_type": "markdown",
   "id": "a032ef19-6f98-49e7-ac9b-4abedbed4bd7",
   "metadata": {},
   "source": [
    "Now calculate vmt for each fueltype as product of annual mileage and parc. "
   ]
  },
  {
   "cell_type": "code",
   "execution_count": 73,
   "id": "624afe7f-2b16-490a-8d96-a96e267f4ae0",
   "metadata": {},
   "outputs": [],
   "source": [
    "dfp['diesel_vmt'] = dfp.apply(lambda row: row.diesel_miles * row.diesel, axis=1)\n",
    "dfp['petrol_vmt'] = dfp.apply(lambda row: row.petrol_miles * row.petrol, axis=1)\n",
    "dfp['electric_vmt'] = dfp.apply(lambda row: row.electric_miles * row.electric, axis=1)"
   ]
  },
  {
   "cell_type": "markdown",
   "id": "eab29435-8322-49d2-bcc1-5ff9818f48c0",
   "metadata": {},
   "source": [
    "Now we enter in our MPG assumptions"
   ]
  },
  {
   "cell_type": "code",
   "execution_count": 74,
   "id": "188896a2-18d2-4f2d-942d-8ef62104ae2d",
   "metadata": {},
   "outputs": [],
   "source": [
    "dfp['diesel_economy'] = diesel_mpg\n",
    "dfp['petrol_economy'] = petrol_mpg"
   ]
  },
  {
   "cell_type": "markdown",
   "id": "4ca4355b-2d83-48cc-b85e-0567c4a6464e",
   "metadata": {},
   "source": [
    "Now calculate total gallons of petrol and diesel consumed."
   ]
  },
  {
   "cell_type": "code",
   "execution_count": 75,
   "id": "4bbaf07e-083b-482b-9f6a-82a8b3ad6981",
   "metadata": {},
   "outputs": [],
   "source": [
    "dfp['petrol_consumption_gallons'] = dfp.apply(lambda row: row.petrol_vmt / row.petrol_economy, axis=1)\n",
    "dfp['diesel_consumption_gallons'] = dfp.apply(lambda row: row.diesel_vmt/ row.diesel_economy, axis=1)"
   ]
  },
  {
   "cell_type": "code",
   "execution_count": 76,
   "id": "0aaa071b-d978-4f0c-9470-32e91f8f2857",
   "metadata": {},
   "outputs": [],
   "source": [
    "dfp['petrol_consumption'] = dfp.petrol_consumption_gallons.apply(lambda x: ((x/219.969)*.98)/1000)\n",
    "dfp['diesel_consumption'] = dfp.diesel_consumption_gallons.apply(lambda x: ((x/219.969)*.86)/1000)"
   ]
  },
  {
   "cell_type": "markdown",
   "id": "efb7687c-3d0b-4cf9-8c74-26a8dd2e4536",
   "metadata": {},
   "source": [
    "Now calculate emissions from each kind of fuel. "
   ]
  },
  {
   "cell_type": "code",
   "execution_count": 77,
   "id": "54c6e81d-46e2-4f24-a800-92352422441a",
   "metadata": {},
   "outputs": [],
   "source": [
    "dfp['diesel_emissions'] = dfp.diesel_consumption.apply(lambda x: ((1000*x)*11629.9998357937)*.23686)\n",
    "dfp['petrol_emissions'] = dfp.petrol_consumption.apply(lambda x: ((1000*x)*11629.9998357937)*.22980)"
   ]
  },
  {
   "cell_type": "code",
   "execution_count": 101,
   "id": "528fb847-02b1-4178-b3dd-0a90b6636f8c",
   "metadata": {},
   "outputs": [],
   "source": [
    "dfp['total_kgCO2e_calc'] = dfp.apply(lambda row: row['diesel_emissions'] + row['petrol_emissions'], axis=1)"
   ]
  },
  {
   "cell_type": "code",
   "execution_count": 94,
   "id": "c717a518-140a-4ccb-84ff-734699c40b73",
   "metadata": {},
   "outputs": [
    {
     "name": "stderr",
     "output_type": "stream",
     "text": [
      "/Users/ben/opt/anaconda3/envs/tf/lib/python3.7/site-packages/ipykernel_launcher.py:5: SettingWithCopyWarning: \n",
      "A value is trying to be set on a copy of a slice from a DataFrame.\n",
      "Try using .loc[row_indexer,col_indexer] = value instead\n",
      "\n",
      "See the caveats in the documentation: https://pandas.pydata.org/pandas-docs/stable/user_guide/indexing.html#returning-a-view-versus-a-copy\n",
      "  \"\"\"\n",
      "/Users/ben/opt/anaconda3/envs/tf/lib/python3.7/site-packages/ipykernel_launcher.py:6: SettingWithCopyWarning: \n",
      "A value is trying to be set on a copy of a slice from a DataFrame.\n",
      "Try using .loc[row_indexer,col_indexer] = value instead\n",
      "\n",
      "See the caveats in the documentation: https://pandas.pydata.org/pandas-docs/stable/user_guide/indexing.html#returning-a-view-versus-a-copy\n",
      "  \n",
      "/Users/ben/opt/anaconda3/envs/tf/lib/python3.7/site-packages/ipykernel_launcher.py:8: SettingWithCopyWarning: \n",
      "A value is trying to be set on a copy of a slice from a DataFrame.\n",
      "Try using .loc[row_indexer,col_indexer] = value instead\n",
      "\n",
      "See the caveats in the documentation: https://pandas.pydata.org/pandas-docs/stable/user_guide/indexing.html#returning-a-view-versus-a-copy\n",
      "  \n",
      "/Users/ben/opt/anaconda3/envs/tf/lib/python3.7/site-packages/ipykernel_launcher.py:9: SettingWithCopyWarning: \n",
      "A value is trying to be set on a copy of a slice from a DataFrame.\n",
      "Try using .loc[row_indexer,col_indexer] = value instead\n",
      "\n",
      "See the caveats in the documentation: https://pandas.pydata.org/pandas-docs/stable/user_guide/indexing.html#returning-a-view-versus-a-copy\n",
      "  if __name__ == '__main__':\n",
      "/Users/ben/opt/anaconda3/envs/tf/lib/python3.7/site-packages/ipykernel_launcher.py:11: SettingWithCopyWarning: \n",
      "A value is trying to be set on a copy of a slice from a DataFrame.\n",
      "Try using .loc[row_indexer,col_indexer] = value instead\n",
      "\n",
      "See the caveats in the documentation: https://pandas.pydata.org/pandas-docs/stable/user_guide/indexing.html#returning-a-view-versus-a-copy\n",
      "  # This is added back by InteractiveShellApp.init_path()\n",
      "/Users/ben/opt/anaconda3/envs/tf/lib/python3.7/site-packages/ipykernel_launcher.py:12: SettingWithCopyWarning: \n",
      "A value is trying to be set on a copy of a slice from a DataFrame.\n",
      "Try using .loc[row_indexer,col_indexer] = value instead\n",
      "\n",
      "See the caveats in the documentation: https://pandas.pydata.org/pandas-docs/stable/user_guide/indexing.html#returning-a-view-versus-a-copy\n",
      "  if sys.path[0] == '':\n",
      "/Users/ben/opt/anaconda3/envs/tf/lib/python3.7/site-packages/ipykernel_launcher.py:14: SettingWithCopyWarning: \n",
      "A value is trying to be set on a copy of a slice from a DataFrame.\n",
      "Try using .loc[row_indexer,col_indexer] = value instead\n",
      "\n",
      "See the caveats in the documentation: https://pandas.pydata.org/pandas-docs/stable/user_guide/indexing.html#returning-a-view-versus-a-copy\n",
      "  \n",
      "/Users/ben/opt/anaconda3/envs/tf/lib/python3.7/site-packages/ipykernel_launcher.py:15: SettingWithCopyWarning: \n",
      "A value is trying to be set on a copy of a slice from a DataFrame.\n",
      "Try using .loc[row_indexer,col_indexer] = value instead\n",
      "\n",
      "See the caveats in the documentation: https://pandas.pydata.org/pandas-docs/stable/user_guide/indexing.html#returning-a-view-versus-a-copy\n",
      "  from ipykernel import kernelapp as app\n",
      "/Users/ben/opt/anaconda3/envs/tf/lib/python3.7/site-packages/ipykernel_launcher.py:17: SettingWithCopyWarning: \n",
      "A value is trying to be set on a copy of a slice from a DataFrame.\n",
      "Try using .loc[row_indexer,col_indexer] = value instead\n",
      "\n",
      "See the caveats in the documentation: https://pandas.pydata.org/pandas-docs/stable/user_guide/indexing.html#returning-a-view-versus-a-copy\n"
     ]
    }
   ],
   "source": [
    "# Let's fill in the gaps with an estimate for 2021 and 2022\n",
    "\n",
    "df_sel = df.iloc[-2:]\n",
    "\n",
    "df_sel['diesel_economy'] = diesel_mpg\n",
    "df_sel['petrol_economy'] = petrol_mpg\n",
    "\n",
    "df_sel['petrol_consumption_gallons'] = df_sel.apply(lambda row: row.petrol_vmt / row.petrol_economy, axis=1)\n",
    "df_sel['diesel_consumption_gallons'] = df_sel.apply(lambda row: row.diesel_vmt/ row.diesel_economy, axis=1)\n",
    "\n",
    "df_sel['petrol_consumption'] = df_sel.petrol_consumption_gallons.apply(lambda x: ((x/219.969)*.98)/1000)\n",
    "df_sel['diesel_consumption'] = df_sel.diesel_consumption_gallons.apply(lambda x: ((x/219.969)*.86)/1000)\n",
    "\n",
    "df_sel['diesel_emissions'] = df_sel.diesel_consumption.apply(lambda x: ((1000*x)*11629.9998357937)*.23686)\n",
    "df_sel['petrol_emissions'] = df_sel.petrol_consumption.apply(lambda x: ((1000*x)*11629.9998357937)*.22980)\n",
    "\n",
    "df_sel['total_kgCO2e_calc'] = df_sel.apply(lambda row: row.diesel_emissions + row.petrol_emissions, axis=1)"
   ]
  },
  {
   "cell_type": "code",
   "execution_count": 95,
   "id": "d19e1f12-b57a-4810-bfd5-d8174f0595fe",
   "metadata": {},
   "outputs": [
    {
     "data": {
      "text/html": [
       "<div>\n",
       "<style scoped>\n",
       "    .dataframe tbody tr th:only-of-type {\n",
       "        vertical-align: middle;\n",
       "    }\n",
       "\n",
       "    .dataframe tbody tr th {\n",
       "        vertical-align: top;\n",
       "    }\n",
       "\n",
       "    .dataframe thead th {\n",
       "        text-align: right;\n",
       "    }\n",
       "</style>\n",
       "<table border=\"1\" class=\"dataframe\">\n",
       "  <thead>\n",
       "    <tr style=\"text-align: right;\">\n",
       "      <th></th>\n",
       "      <th>Diesel</th>\n",
       "      <th>Hybrid</th>\n",
       "      <th>Other</th>\n",
       "      <th>Petrol</th>\n",
       "      <th>Pure Electric</th>\n",
       "      <th>Diesel_miles</th>\n",
       "      <th>Petrol_miles</th>\n",
       "      <th>Electric_miles</th>\n",
       "      <th>diesel_vmt</th>\n",
       "      <th>petrol_vmt</th>\n",
       "      <th>...</th>\n",
       "      <th>diesel_economy</th>\n",
       "      <th>diesel_consumption_y</th>\n",
       "      <th>petrol_consumption_y</th>\n",
       "      <th>diesel_consumption</th>\n",
       "      <th>petrol_consumption</th>\n",
       "      <th>diesel_emissions</th>\n",
       "      <th>petrol_emissions</th>\n",
       "      <th>total_kgCO2e_calc</th>\n",
       "      <th>1A3bii_Light_duty_trucks</th>\n",
       "      <th>error</th>\n",
       "    </tr>\n",
       "    <tr>\n",
       "      <th>variable</th>\n",
       "      <th></th>\n",
       "      <th></th>\n",
       "      <th></th>\n",
       "      <th></th>\n",
       "      <th></th>\n",
       "      <th></th>\n",
       "      <th></th>\n",
       "      <th></th>\n",
       "      <th></th>\n",
       "      <th></th>\n",
       "      <th></th>\n",
       "      <th></th>\n",
       "      <th></th>\n",
       "      <th></th>\n",
       "      <th></th>\n",
       "      <th></th>\n",
       "      <th></th>\n",
       "      <th></th>\n",
       "      <th></th>\n",
       "      <th></th>\n",
       "      <th></th>\n",
       "    </tr>\n",
       "  </thead>\n",
       "  <tbody>\n",
       "    <tr>\n",
       "      <th>2021-12-31</th>\n",
       "      <td>4290274.0</td>\n",
       "      <td>1035.0</td>\n",
       "      <td>36247.0</td>\n",
       "      <td>136913.0</td>\n",
       "      <td>29281.0</td>\n",
       "      <td>10949.731018</td>\n",
       "      <td>7475.393426</td>\n",
       "      <td>5471.133267</td>\n",
       "      <td>4.697735e+10</td>\n",
       "      <td>1.023479e+09</td>\n",
       "      <td>...</td>\n",
       "      <td>36.18182</td>\n",
       "      <td>NaN</td>\n",
       "      <td>NaN</td>\n",
       "      <td>5076.156918</td>\n",
       "      <td>276.598302</td>\n",
       "      <td>1.398320e+10</td>\n",
       "      <td>7.392294e+08</td>\n",
       "      <td>1.472243e+10</td>\n",
       "      <td>NaN</td>\n",
       "      <td>NaN</td>\n",
       "    </tr>\n",
       "    <tr>\n",
       "      <th>2022-12-31</th>\n",
       "      <td>4354704.0</td>\n",
       "      <td>1019.0</td>\n",
       "      <td>44548.0</td>\n",
       "      <td>141691.0</td>\n",
       "      <td>37342.0</td>\n",
       "      <td>10640.512549</td>\n",
       "      <td>7656.334273</td>\n",
       "      <td>5592.419257</td>\n",
       "      <td>4.633628e+10</td>\n",
       "      <td>1.084834e+09</td>\n",
       "      <td>...</td>\n",
       "      <td>36.18182</td>\n",
       "      <td>NaN</td>\n",
       "      <td>NaN</td>\n",
       "      <td>5006.886506</td>\n",
       "      <td>293.179716</td>\n",
       "      <td>1.379238e+10</td>\n",
       "      <td>7.835445e+08</td>\n",
       "      <td>1.457592e+10</td>\n",
       "      <td>NaN</td>\n",
       "      <td>NaN</td>\n",
       "    </tr>\n",
       "  </tbody>\n",
       "</table>\n",
       "<p>2 rows × 26 columns</p>\n",
       "</div>"
      ],
      "text/plain": [
       "               Diesel  Hybrid    Other    Petrol  Pure Electric  Diesel_miles  \\\n",
       "variable                                                                        \n",
       "2021-12-31  4290274.0  1035.0  36247.0  136913.0        29281.0  10949.731018   \n",
       "2022-12-31  4354704.0  1019.0  44548.0  141691.0        37342.0  10640.512549   \n",
       "\n",
       "            Petrol_miles  Electric_miles    diesel_vmt    petrol_vmt  ...  \\\n",
       "variable                                                              ...   \n",
       "2021-12-31   7475.393426     5471.133267  4.697735e+10  1.023479e+09  ...   \n",
       "2022-12-31   7656.334273     5592.419257  4.633628e+10  1.084834e+09  ...   \n",
       "\n",
       "            diesel_economy  diesel_consumption_y  petrol_consumption_y  \\\n",
       "variable                                                                 \n",
       "2021-12-31        36.18182                   NaN                   NaN   \n",
       "2022-12-31        36.18182                   NaN                   NaN   \n",
       "\n",
       "            diesel_consumption  petrol_consumption  diesel_emissions  \\\n",
       "variable                                                               \n",
       "2021-12-31         5076.156918          276.598302      1.398320e+10   \n",
       "2022-12-31         5006.886506          293.179716      1.379238e+10   \n",
       "\n",
       "            petrol_emissions  total_kgCO2e_calc  1A3bii_Light_duty_trucks  \\\n",
       "variable                                                                    \n",
       "2021-12-31      7.392294e+08       1.472243e+10                       NaN   \n",
       "2022-12-31      7.835445e+08       1.457592e+10                       NaN   \n",
       "\n",
       "            error  \n",
       "variable           \n",
       "2021-12-31    NaN  \n",
       "2022-12-31    NaN  \n",
       "\n",
       "[2 rows x 26 columns]"
      ]
     },
     "execution_count": 95,
     "metadata": {},
     "output_type": "execute_result"
    }
   ],
   "source": [
    "df_sel"
   ]
  },
  {
   "cell_type": "code",
   "execution_count": 102,
   "id": "b4437368-81aa-42bd-a16d-88ddf1c24f08",
   "metadata": {},
   "outputs": [],
   "source": [
    "historical = pd.concat([df_sel, df])\n",
    "forecast = dfp.copy()"
   ]
  },
  {
   "cell_type": "code",
   "execution_count": 104,
   "id": "fc663c27-6f5c-4566-8c56-02d0c4274ac9",
   "metadata": {},
   "outputs": [
    {
     "data": {
      "image/png": "[encoded data removed]",
      "text/plain": [
       "<Figure size 864x432 with 1 Axes>"
      ]
     },
     "metadata": {
      "needs_background": "light"
     },
     "output_type": "display_data"
    }
   ],
   "source": [
    "fig, ax=plt.subplots(figsize=(12, 6))\n",
    "\n",
    "# pd.concat([df[['diesel_emissions', 'petrol_emissions']].dropna(),\n",
    "# df_sel[['diesel_emissions', 'petrol_emissions']]]).sum(axis=1).plot(ax=ax, label='Calculated Emissions')\n",
    "# dfp[['diesel_emissions', 'petrol_emissions']].sum(axis=1).plot(ax=ax, label='Forecast Emissions kgCO2e')\n",
    "\n",
    "historical.total_kgCO2e_calc.plot(ax=ax)\n",
    "forecast.total_kgCO2e_calc.plot(ax=ax)\n",
    "\n",
    "ax.legend()\n",
    "ax.set_ylabel('Emissions kgCO2e')\n",
    "ax.set_xlabel('Year')\n",
    "ax.set_title('Calculated Historical and Forecast Emissions from Vans')\n",
    "# ax.set_ylim(0, 4300000000)\n",
    "\n",
    "# plt.savefig('plots/emissions.png', dpi=300, transparent=False, bbox_inches='tight', facecolor='white')\n",
    "\n",
    "\n",
    "plt.show()"
   ]
  },
  {
   "cell_type": "code",
   "execution_count": 81,
   "id": "a1d4d454-7076-47b0-a650-d7c44e8e789a",
   "metadata": {},
   "outputs": [
    {
     "data": {
      "text/plain": [
       "<AxesSubplot:>"
      ]
     },
     "execution_count": 81,
     "metadata": {},
     "output_type": "execute_result"
    },
    {
     "data": {
      "image/png": "[encoded data removed]",
      "text/plain": [
       "<Figure size 432x288 with 1 Axes>"
      ]
     },
     "metadata": {
      "needs_background": "light"
     },
     "output_type": "display_data"
    }
   ],
   "source": []
  },
  {
   "cell_type": "code",
   "execution_count": 82,
   "id": "6b97e8be-8dfe-4232-a2c5-85ed1161f449",
   "metadata": {},
   "outputs": [
    {
     "data": {
      "text/plain": [
       "(0.0, 65000000000.0)"
      ]
     },
     "execution_count": 82,
     "metadata": {},
     "output_type": "execute_result"
    },
    {
     "data": {
      "image/png": "[encoded data removed]",
      "text/plain": [
       "<Figure size 720x432 with 1 Axes>"
      ]
     },
     "metadata": {
      "needs_background": "light"
     },
     "output_type": "display_data"
    }
   ],
   "source": [
    "fig, ax = plt.subplots(figsize=(10, 6))\n",
    "\n",
    "historical[['diesel_vmt', 'petrol_vmt', 'electric_vmt']].dropna().plot(kind='area', ax=ax)\n",
    "forecast[['diesel_vmt', 'petrol_vmt', 'electric_vmt']].dropna().plot(kind='area', ax=ax)\n",
    "\n",
    "ax.legend(['Actual Diesel CMT', 'Actual Petrol CMT', 'Actual Electric CMT', 'Forecast Diesel CMT', 'Forecast Petrol CMT', 'Forecast Electric CMT'])\n",
    "\n",
    "ax.set_title('Forecast and Actual UK Car Miles Travelled (CMT)')\n",
    "\n",
    "ax.set_ylabel('Vehicle Miles')\n",
    "ax.set_xlabel('Year')\n",
    "\n",
    "ax.set_ylim(0, 65000000000)\n",
    "\n",
    "# plt.savefig('plots/uk_vehicle_miles_past_future.png', dpi=300, transparent=False, bbox_inches='tight', facecolor='white')\n"
   ]
  },
  {
   "cell_type": "code",
   "execution_count": 83,
   "id": "9ca53fb0-88f7-40fc-9199-b763ee3f1021",
   "metadata": {},
   "outputs": [
    {
     "data": {
      "text/plain": [
       "Text(0.5, 0, 'Year')"
      ]
     },
     "execution_count": 83,
     "metadata": {},
     "output_type": "execute_result"
    },
    {
     "data": {
      "image/png": "[encoded data removed]",
      "text/plain": [
       "<Figure size 720x432 with 1 Axes>"
      ]
     },
     "metadata": {
      "needs_background": "light"
     },
     "output_type": "display_data"
    }
   ],
   "source": [
    "fig, ax = plt.subplots(figsize=(10, 6))\n",
    "\n",
    "historical[['diesel_vmt', 'petrol_vmt', 'electric_vmt']].dropna().plot( ax=ax)\n",
    "\n",
    "forecast[['diesel_vmt', 'petrol_vmt', 'electric_vmt']].dropna().plot(ax=ax)\n",
    "\n",
    "ax.legend(['Actual Diesel CMT', 'Actual Petrol CMT', 'Actual Electric CMT', 'Forecast Diesel CMT', 'Forecast Petrol CMT', 'Forecast Electric CMT'])\n",
    "\n",
    "ax.set_title('Forecast and Actual UK Car Miles Travelled (CMT)')\n",
    "\n",
    "ax.set_ylabel('Vehicle Miles')\n",
    "ax.set_xlabel('Year')\n",
    "\n",
    "# ax.set_ylim(0, 300000000000)\n",
    "\n",
    "# plt.savefig('plots/uk_vehicle_miles_past_future.png', dpi=300, transparent=False, bbox_inches='tight', facecolor='white')\n"
   ]
  },
  {
   "cell_type": "code",
   "execution_count": 106,
   "id": "4c4835e6-3ebd-49a2-8182-005910a7ae25",
   "metadata": {},
   "outputs": [
    {
     "data": {
      "text/plain": [
       "Text(0.5, 0, 'Year')"
      ]
     },
     "execution_count": 106,
     "metadata": {},
     "output_type": "execute_result"
    },
    {
     "data": {
      "image/png": "[encoded data removed]",
      "text/plain": [
       "<Figure size 720x432 with 1 Axes>"
      ]
     },
     "metadata": {
      "needs_background": "light"
     },
     "output_type": "display_data"
    }
   ],
   "source": [
    "fig, ax = plt.subplots(figsize=(10, 6))\n",
    "\n",
    "historical[['diesel_vmt', 'petrol_vmt', 'electric_vmt']].sum(axis=1).dropna().plot( ax=ax)\n",
    "\n",
    "forecast[['diesel_vmt', 'petrol_vmt', 'electric_vmt']].sum(axis=1).dropna().plot(ax=ax)\n",
    "\n",
    "# ax.legend(['Actual Diesel CMT', 'Actual Petrol CMT', 'Actual Electric CMT', 'Forecast Diesel CMT', 'Forecast Petrol CMT', 'Forecast Electric CMT'])\n",
    "\n",
    "ax.set_title('Forecast and Actual UK Van Miles Travelled (CMT)')\n",
    "\n",
    "ax.set_ylabel('Vehicle Miles')\n",
    "ax.set_xlabel('Year')\n",
    "\n",
    "# ax.set_ylim(0, 300000000000)\n",
    "\n",
    "# plt.savefig('plots/uk_vehicle_miles_past_future.png', dpi=300, transparent=False, bbox_inches='tight', facecolor='white')"
   ]
  },
  {
   "cell_type": "code",
   "execution_count": 85,
   "id": "04f469d7-972e-4314-b3d2-1ac5dcc505e3",
   "metadata": {},
   "outputs": [
    {
     "data": {
      "image/png": "[encoded data removed]",
      "text/plain": [
       "<Figure size 720x432 with 1 Axes>"
      ]
     },
     "metadata": {
      "needs_background": "light"
     },
     "output_type": "display_data"
    }
   ],
   "source": [
    "fig, ax = plt.subplots(figsize=(10, 6))\n",
    "\n",
    "historical[['Diesel', 'Petrol', 'Pure Electric']].plot(ax=ax)\n",
    "forecast[['diesel', 'petrol', 'electric']].rename(columns={'diesel':'Diesel Forecast', 'petrol':'Petrol Forecast', 'electric':'ZEV Forecast'}).plot(ax=ax)\n",
    "\n",
    "ax.set_title('Current and Projected UK Car Parc')\n",
    "# ax.legend(['Diesel', 'Petrol', 'ZEV', 'Diesel Forecast', 'Petrol Forecast', 'ZEV Forecast'])\n",
    "\n",
    "ax.set_ylabel('Number of Vehicles')\n",
    "ax.set_xlabel('Year')\n",
    "\n",
    "plt.savefig('plots/vehicle_parc_past_future.png', dpi=300, transparent=False, bbox_inches='tight', facecolor='white')\n"
   ]
  },
  {
   "cell_type": "code",
   "execution_count": 97,
   "id": "48639eab-e841-4b47-be63-c3e3316a3525",
   "metadata": {},
   "outputs": [
    {
     "name": "stdout",
     "output_type": "stream",
     "text": [
      "Total emissions saved: 14219142000.32044\n",
      "Emissions elimited by 2050: 97.55%\n"
     ]
    }
   ],
   "source": [
    "start_emissions = historical[['petrol_emissions', 'diesel_emissions']].sum(axis=1).iloc[-1]\n",
    "end_emissions = forecast[['petrol_emissions', 'diesel_emissions']].sum(axis=1).iloc[-1]\n",
    "\n",
    "print(\"Total emissions saved: {}\".format(start_emissions - end_emissions))\n",
    "print(\"Emissions elimited by 2050: {}%\".format(round(100*(start_emissions - end_emissions) / start_emissions, ndigits=2)))"
   ]
  },
  {
   "cell_type": "code",
   "execution_count": 91,
   "id": "06dd7990-527f-4de1-9fdb-568fca31623f",
   "metadata": {},
   "outputs": [
    {
     "data": {
      "text/html": [
       "<div>\n",
       "<style scoped>\n",
       "    .dataframe tbody tr th:only-of-type {\n",
       "        vertical-align: middle;\n",
       "    }\n",
       "\n",
       "    .dataframe tbody tr th {\n",
       "        vertical-align: top;\n",
       "    }\n",
       "\n",
       "    .dataframe thead th {\n",
       "        text-align: right;\n",
       "    }\n",
       "</style>\n",
       "<table border=\"1\" class=\"dataframe\">\n",
       "  <thead>\n",
       "    <tr style=\"text-align: right;\">\n",
       "      <th></th>\n",
       "      <th>Diesel</th>\n",
       "      <th>Hybrid</th>\n",
       "      <th>Other</th>\n",
       "      <th>Petrol</th>\n",
       "      <th>Pure Electric</th>\n",
       "      <th>Diesel_miles</th>\n",
       "      <th>Petrol_miles</th>\n",
       "      <th>Electric_miles</th>\n",
       "      <th>diesel_vmt</th>\n",
       "      <th>petrol_vmt</th>\n",
       "      <th>...</th>\n",
       "      <th>diesel_economy</th>\n",
       "      <th>diesel_consumption_y</th>\n",
       "      <th>petrol_consumption_y</th>\n",
       "      <th>diesel_consumption</th>\n",
       "      <th>petrol_consumption</th>\n",
       "      <th>diesel_emissions</th>\n",
       "      <th>petrol_emissions</th>\n",
       "      <th>total_kgCO2e_calc</th>\n",
       "      <th>1A3bii_Light_duty_trucks</th>\n",
       "      <th>error</th>\n",
       "    </tr>\n",
       "    <tr>\n",
       "      <th>variable</th>\n",
       "      <th></th>\n",
       "      <th></th>\n",
       "      <th></th>\n",
       "      <th></th>\n",
       "      <th></th>\n",
       "      <th></th>\n",
       "      <th></th>\n",
       "      <th></th>\n",
       "      <th></th>\n",
       "      <th></th>\n",
       "      <th></th>\n",
       "      <th></th>\n",
       "      <th></th>\n",
       "      <th></th>\n",
       "      <th></th>\n",
       "      <th></th>\n",
       "      <th></th>\n",
       "      <th></th>\n",
       "      <th></th>\n",
       "      <th></th>\n",
       "      <th></th>\n",
       "    </tr>\n",
       "  </thead>\n",
       "  <tbody>\n",
       "    <tr>\n",
       "      <th>2018-12-31</th>\n",
       "      <td>3911448.0</td>\n",
       "      <td>406.0</td>\n",
       "      <td>14366.0</td>\n",
       "      <td>131187.0</td>\n",
       "      <td>7439.0</td>\n",
       "      <td>12522.855379</td>\n",
       "      <td>6962.988398</td>\n",
       "      <td>4838.474203</td>\n",
       "      <td>4.898250e+10</td>\n",
       "      <td>9.134536e+08</td>\n",
       "      <td>...</td>\n",
       "      <td>34.464599</td>\n",
       "      <td>6331.874409</td>\n",
       "      <td>217.646037</td>\n",
       "      <td>6331.874409</td>\n",
       "      <td>217.646037</td>\n",
       "      <td>1.775821e+10</td>\n",
       "      <td>5.750686e+08</td>\n",
       "      <td>1.833328e+10</td>\n",
       "      <td>1.823976e+10</td>\n",
       "      <td>1.005127</td>\n",
       "    </tr>\n",
       "    <tr>\n",
       "      <th>2019-12-31</th>\n",
       "      <td>4023699.0</td>\n",
       "      <td>577.0</td>\n",
       "      <td>16860.0</td>\n",
       "      <td>133570.0</td>\n",
       "      <td>10330.0</td>\n",
       "      <td>12189.991250</td>\n",
       "      <td>7305.643501</td>\n",
       "      <td>5167.947755</td>\n",
       "      <td>4.904886e+10</td>\n",
       "      <td>9.758148e+08</td>\n",
       "      <td>...</td>\n",
       "      <td>33.906021</td>\n",
       "      <td>6444.906846</td>\n",
       "      <td>209.522932</td>\n",
       "      <td>6444.906846</td>\n",
       "      <td>209.522932</td>\n",
       "      <td>1.807522e+10</td>\n",
       "      <td>5.536056e+08</td>\n",
       "      <td>1.862883e+10</td>\n",
       "      <td>1.772696e+10</td>\n",
       "      <td>1.050875</td>\n",
       "    </tr>\n",
       "    <tr>\n",
       "      <th>2020-12-31</th>\n",
       "      <td>4118549.0</td>\n",
       "      <td>894.0</td>\n",
       "      <td>21986.0</td>\n",
       "      <td>133583.0</td>\n",
       "      <td>15678.0</td>\n",
       "      <td>11490.670587</td>\n",
       "      <td>7422.913185</td>\n",
       "      <td>5407.479063</td>\n",
       "      <td>4.732489e+10</td>\n",
       "      <td>9.915750e+08</td>\n",
       "      <td>...</td>\n",
       "      <td>35.999566</td>\n",
       "      <td>5856.753502</td>\n",
       "      <td>179.314761</td>\n",
       "      <td>5856.753502</td>\n",
       "      <td>179.314761</td>\n",
       "      <td>1.642570e+10</td>\n",
       "      <td>4.737890e+08</td>\n",
       "      <td>1.689949e+10</td>\n",
       "      <td>1.595630e+10</td>\n",
       "      <td>1.059111</td>\n",
       "    </tr>\n",
       "    <tr>\n",
       "      <th>2021-12-31</th>\n",
       "      <td>4290274.0</td>\n",
       "      <td>1035.0</td>\n",
       "      <td>36247.0</td>\n",
       "      <td>136913.0</td>\n",
       "      <td>29281.0</td>\n",
       "      <td>10949.731018</td>\n",
       "      <td>7475.393426</td>\n",
       "      <td>5471.133267</td>\n",
       "      <td>4.697735e+10</td>\n",
       "      <td>1.023479e+09</td>\n",
       "      <td>...</td>\n",
       "      <td>36.181820</td>\n",
       "      <td>NaN</td>\n",
       "      <td>NaN</td>\n",
       "      <td>NaN</td>\n",
       "      <td>NaN</td>\n",
       "      <td>NaN</td>\n",
       "      <td>NaN</td>\n",
       "      <td>NaN</td>\n",
       "      <td>NaN</td>\n",
       "      <td>NaN</td>\n",
       "    </tr>\n",
       "    <tr>\n",
       "      <th>2022-12-31</th>\n",
       "      <td>4354704.0</td>\n",
       "      <td>1019.0</td>\n",
       "      <td>44548.0</td>\n",
       "      <td>141691.0</td>\n",
       "      <td>37342.0</td>\n",
       "      <td>10640.512549</td>\n",
       "      <td>7656.334273</td>\n",
       "      <td>5592.419257</td>\n",
       "      <td>4.633628e+10</td>\n",
       "      <td>1.084834e+09</td>\n",
       "      <td>...</td>\n",
       "      <td>36.181820</td>\n",
       "      <td>NaN</td>\n",
       "      <td>NaN</td>\n",
       "      <td>NaN</td>\n",
       "      <td>NaN</td>\n",
       "      <td>NaN</td>\n",
       "      <td>NaN</td>\n",
       "      <td>NaN</td>\n",
       "      <td>NaN</td>\n",
       "      <td>NaN</td>\n",
       "    </tr>\n",
       "  </tbody>\n",
       "</table>\n",
       "<p>5 rows × 26 columns</p>\n",
       "</div>"
      ],
      "text/plain": [
       "               Diesel  Hybrid    Other    Petrol  Pure Electric  Diesel_miles  \\\n",
       "variable                                                                        \n",
       "2018-12-31  3911448.0   406.0  14366.0  131187.0         7439.0  12522.855379   \n",
       "2019-12-31  4023699.0   577.0  16860.0  133570.0        10330.0  12189.991250   \n",
       "2020-12-31  4118549.0   894.0  21986.0  133583.0        15678.0  11490.670587   \n",
       "2021-12-31  4290274.0  1035.0  36247.0  136913.0        29281.0  10949.731018   \n",
       "2022-12-31  4354704.0  1019.0  44548.0  141691.0        37342.0  10640.512549   \n",
       "\n",
       "            Petrol_miles  Electric_miles    diesel_vmt    petrol_vmt  ...  \\\n",
       "variable                                                              ...   \n",
       "2018-12-31   6962.988398     4838.474203  4.898250e+10  9.134536e+08  ...   \n",
       "2019-12-31   7305.643501     5167.947755  4.904886e+10  9.758148e+08  ...   \n",
       "2020-12-31   7422.913185     5407.479063  4.732489e+10  9.915750e+08  ...   \n",
       "2021-12-31   7475.393426     5471.133267  4.697735e+10  1.023479e+09  ...   \n",
       "2022-12-31   7656.334273     5592.419257  4.633628e+10  1.084834e+09  ...   \n",
       "\n",
       "            diesel_economy  diesel_consumption_y  petrol_consumption_y  \\\n",
       "variable                                                                 \n",
       "2018-12-31       34.464599           6331.874409            217.646037   \n",
       "2019-12-31       33.906021           6444.906846            209.522932   \n",
       "2020-12-31       35.999566           5856.753502            179.314761   \n",
       "2021-12-31       36.181820                   NaN                   NaN   \n",
       "2022-12-31       36.181820                   NaN                   NaN   \n",
       "\n",
       "            diesel_consumption  petrol_consumption  diesel_emissions  \\\n",
       "variable                                                               \n",
       "2018-12-31         6331.874409          217.646037      1.775821e+10   \n",
       "2019-12-31         6444.906846          209.522932      1.807522e+10   \n",
       "2020-12-31         5856.753502          179.314761      1.642570e+10   \n",
       "2021-12-31                 NaN                 NaN               NaN   \n",
       "2022-12-31                 NaN                 NaN               NaN   \n",
       "\n",
       "            petrol_emissions  total_kgCO2e_calc  1A3bii_Light_duty_trucks  \\\n",
       "variable                                                                    \n",
       "2018-12-31      5.750686e+08       1.833328e+10              1.823976e+10   \n",
       "2019-12-31      5.536056e+08       1.862883e+10              1.772696e+10   \n",
       "2020-12-31      4.737890e+08       1.689949e+10              1.595630e+10   \n",
       "2021-12-31               NaN                NaN                       NaN   \n",
       "2022-12-31               NaN                NaN                       NaN   \n",
       "\n",
       "               error  \n",
       "variable              \n",
       "2018-12-31  1.005127  \n",
       "2019-12-31  1.050875  \n",
       "2020-12-31  1.059111  \n",
       "2021-12-31       NaN  \n",
       "2022-12-31       NaN  \n",
       "\n",
       "[5 rows x 26 columns]"
      ]
     },
     "execution_count": 91,
     "metadata": {},
     "output_type": "execute_result"
    }
   ],
   "source": [
    "historical.tail()"
   ]
  },
  {
   "cell_type": "code",
   "execution_count": 92,
   "id": "d6a708be-7146-4cb9-b2f2-da87d65fdde8",
   "metadata": {},
   "outputs": [
    {
     "data": {
      "text/html": [
       "<div>\n",
       "<style scoped>\n",
       "    .dataframe tbody tr th:only-of-type {\n",
       "        vertical-align: middle;\n",
       "    }\n",
       "\n",
       "    .dataframe tbody tr th {\n",
       "        vertical-align: top;\n",
       "    }\n",
       "\n",
       "    .dataframe thead th {\n",
       "        text-align: right;\n",
       "    }\n",
       "</style>\n",
       "<table border=\"1\" class=\"dataframe\">\n",
       "  <thead>\n",
       "    <tr style=\"text-align: right;\">\n",
       "      <th></th>\n",
       "      <th>new_diesel</th>\n",
       "      <th>new_petrol</th>\n",
       "      <th>new_electric</th>\n",
       "      <th>diesel</th>\n",
       "      <th>petrol</th>\n",
       "      <th>electric</th>\n",
       "      <th>diesel_miles</th>\n",
       "      <th>petrol_miles</th>\n",
       "      <th>electric_miles</th>\n",
       "      <th>diesel_vmt</th>\n",
       "      <th>petrol_vmt</th>\n",
       "      <th>electric_vmt</th>\n",
       "      <th>diesel_economy</th>\n",
       "      <th>petrol_economy</th>\n",
       "      <th>petrol_consumption_gallons</th>\n",
       "      <th>diesel_consumption_gallons</th>\n",
       "      <th>petrol_consumption</th>\n",
       "      <th>diesel_consumption</th>\n",
       "      <th>diesel_emissions</th>\n",
       "      <th>petrol_emissions</th>\n",
       "    </tr>\n",
       "  </thead>\n",
       "  <tbody>\n",
       "    <tr>\n",
       "      <th>2023-12-31</th>\n",
       "      <td>264079.364467</td>\n",
       "      <td>8153.535533</td>\n",
       "      <td>48041.10</td>\n",
       "      <td>4381597</td>\n",
       "      <td>137095</td>\n",
       "      <td>85383</td>\n",
       "      <td>11558.752157</td>\n",
       "      <td>7364.654557</td>\n",
       "      <td>5295.490709</td>\n",
       "      <td>5.064579e+10</td>\n",
       "      <td>1.009657e+09</td>\n",
       "      <td>4.521449e+08</td>\n",
       "      <td>36.18182</td>\n",
       "      <td>16.485185</td>\n",
       "      <td>6.124634e+07</td>\n",
       "      <td>1.399758e+09</td>\n",
       "      <td>272.863073</td>\n",
       "      <td>5472.552553</td>\n",
       "      <td>1.507514e+10</td>\n",
       "      <td>7.292467e+08</td>\n",
       "    </tr>\n",
       "    <tr>\n",
       "      <th>2024-12-31</th>\n",
       "      <td>242331.652099</td>\n",
       "      <td>7482.067901</td>\n",
       "      <td>70460.28</td>\n",
       "      <td>4367730</td>\n",
       "      <td>131901</td>\n",
       "      <td>155843</td>\n",
       "      <td>11558.752157</td>\n",
       "      <td>7364.654557</td>\n",
       "      <td>5295.490709</td>\n",
       "      <td>5.048551e+10</td>\n",
       "      <td>9.714053e+08</td>\n",
       "      <td>8.252652e+08</td>\n",
       "      <td>36.18182</td>\n",
       "      <td>16.485185</td>\n",
       "      <td>5.892596e+07</td>\n",
       "      <td>1.395328e+09</td>\n",
       "      <td>262.525345</td>\n",
       "      <td>5455.232867</td>\n",
       "      <td>1.502743e+10</td>\n",
       "      <td>7.016184e+08</td>\n",
       "    </tr>\n",
       "    <tr>\n",
       "      <th>2025-12-31</th>\n",
       "      <td>223690.755784</td>\n",
       "      <td>6906.524216</td>\n",
       "      <td>89676.72</td>\n",
       "      <td>4342917</td>\n",
       "      <td>127329</td>\n",
       "      <td>245520</td>\n",
       "      <td>11558.752157</td>\n",
       "      <td>7364.654557</td>\n",
       "      <td>5295.490709</td>\n",
       "      <td>5.019870e+10</td>\n",
       "      <td>9.377341e+08</td>\n",
       "      <td>1.300149e+09</td>\n",
       "      <td>36.18182</td>\n",
       "      <td>16.485185</td>\n",
       "      <td>5.688344e+07</td>\n",
       "      <td>1.387401e+09</td>\n",
       "      <td>253.425597</td>\n",
       "      <td>5424.241782</td>\n",
       "      <td>1.494206e+10</td>\n",
       "      <td>6.772987e+08</td>\n",
       "    </tr>\n",
       "    <tr>\n",
       "      <th>2026-12-31</th>\n",
       "      <td>208156.675521</td>\n",
       "      <td>6426.904479</td>\n",
       "      <td>105690.42</td>\n",
       "      <td>4300286</td>\n",
       "      <td>126154</td>\n",
       "      <td>351210</td>\n",
       "      <td>11558.752157</td>\n",
       "      <td>7364.654557</td>\n",
       "      <td>5295.490709</td>\n",
       "      <td>4.970594e+10</td>\n",
       "      <td>9.290806e+08</td>\n",
       "      <td>1.859829e+09</td>\n",
       "      <td>36.18182</td>\n",
       "      <td>16.485185</td>\n",
       "      <td>5.635852e+07</td>\n",
       "      <td>1.373782e+09</td>\n",
       "      <td>251.086970</td>\n",
       "      <td>5370.996267</td>\n",
       "      <td>1.479539e+10</td>\n",
       "      <td>6.710485e+08</td>\n",
       "    </tr>\n",
       "    <tr>\n",
       "      <th>2027-12-31</th>\n",
       "      <td>192622.595258</td>\n",
       "      <td>5947.284742</td>\n",
       "      <td>121704.12</td>\n",
       "      <td>4232488</td>\n",
       "      <td>124840</td>\n",
       "      <td>472914</td>\n",
       "      <td>11558.752157</td>\n",
       "      <td>7364.654557</td>\n",
       "      <td>5295.490709</td>\n",
       "      <td>4.892228e+10</td>\n",
       "      <td>9.194035e+08</td>\n",
       "      <td>2.504312e+09</td>\n",
       "      <td>36.18182</td>\n",
       "      <td>16.485185</td>\n",
       "      <td>5.577150e+07</td>\n",
       "      <td>1.352123e+09</td>\n",
       "      <td>248.471688</td>\n",
       "      <td>5286.317526</td>\n",
       "      <td>1.456212e+10</td>\n",
       "      <td>6.640590e+08</td>\n",
       "    </tr>\n",
       "  </tbody>\n",
       "</table>\n",
       "</div>"
      ],
      "text/plain": [
       "               new_diesel   new_petrol  new_electric   diesel  petrol  \\\n",
       "2023-12-31  264079.364467  8153.535533      48041.10  4381597  137095   \n",
       "2024-12-31  242331.652099  7482.067901      70460.28  4367730  131901   \n",
       "2025-12-31  223690.755784  6906.524216      89676.72  4342917  127329   \n",
       "2026-12-31  208156.675521  6426.904479     105690.42  4300286  126154   \n",
       "2027-12-31  192622.595258  5947.284742     121704.12  4232488  124840   \n",
       "\n",
       "            electric  diesel_miles  petrol_miles  electric_miles  \\\n",
       "2023-12-31     85383  11558.752157   7364.654557     5295.490709   \n",
       "2024-12-31    155843  11558.752157   7364.654557     5295.490709   \n",
       "2025-12-31    245520  11558.752157   7364.654557     5295.490709   \n",
       "2026-12-31    351210  11558.752157   7364.654557     5295.490709   \n",
       "2027-12-31    472914  11558.752157   7364.654557     5295.490709   \n",
       "\n",
       "              diesel_vmt    petrol_vmt  electric_vmt  diesel_economy  \\\n",
       "2023-12-31  5.064579e+10  1.009657e+09  4.521449e+08        36.18182   \n",
       "2024-12-31  5.048551e+10  9.714053e+08  8.252652e+08        36.18182   \n",
       "2025-12-31  5.019870e+10  9.377341e+08  1.300149e+09        36.18182   \n",
       "2026-12-31  4.970594e+10  9.290806e+08  1.859829e+09        36.18182   \n",
       "2027-12-31  4.892228e+10  9.194035e+08  2.504312e+09        36.18182   \n",
       "\n",
       "            petrol_economy  petrol_consumption_gallons  \\\n",
       "2023-12-31       16.485185                6.124634e+07   \n",
       "2024-12-31       16.485185                5.892596e+07   \n",
       "2025-12-31       16.485185                5.688344e+07   \n",
       "2026-12-31       16.485185                5.635852e+07   \n",
       "2027-12-31       16.485185                5.577150e+07   \n",
       "\n",
       "            diesel_consumption_gallons  petrol_consumption  \\\n",
       "2023-12-31                1.399758e+09          272.863073   \n",
       "2024-12-31                1.395328e+09          262.525345   \n",
       "2025-12-31                1.387401e+09          253.425597   \n",
       "2026-12-31                1.373782e+09          251.086970   \n",
       "2027-12-31                1.352123e+09          248.471688   \n",
       "\n",
       "            diesel_consumption  diesel_emissions  petrol_emissions  \n",
       "2023-12-31         5472.552553      1.507514e+10      7.292467e+08  \n",
       "2024-12-31         5455.232867      1.502743e+10      7.016184e+08  \n",
       "2025-12-31         5424.241782      1.494206e+10      6.772987e+08  \n",
       "2026-12-31         5370.996267      1.479539e+10      6.710485e+08  \n",
       "2027-12-31         5286.317526      1.456212e+10      6.640590e+08  "
      ]
     },
     "execution_count": 92,
     "metadata": {},
     "output_type": "execute_result"
    }
   ],
   "source": [
    "forecast.head()"
   ]
  },
  {
   "cell_type": "code",
   "execution_count": 102,
   "id": "3b5f8b88-dd74-4c39-9264-65a05dba8564",
   "metadata": {},
   "outputs": [
    {
     "data": {
      "text/html": [
       "<div>\n",
       "<style scoped>\n",
       "    .dataframe tbody tr th:only-of-type {\n",
       "        vertical-align: middle;\n",
       "    }\n",
       "\n",
       "    .dataframe tbody tr th {\n",
       "        vertical-align: top;\n",
       "    }\n",
       "\n",
       "    .dataframe thead th {\n",
       "        text-align: right;\n",
       "    }\n",
       "</style>\n",
       "<table border=\"1\" class=\"dataframe\">\n",
       "  <thead>\n",
       "    <tr style=\"text-align: right;\">\n",
       "      <th></th>\n",
       "      <th>new_diesel</th>\n",
       "      <th>new_petrol</th>\n",
       "      <th>new_electric</th>\n",
       "      <th>diesel</th>\n",
       "      <th>petrol</th>\n",
       "      <th>electric</th>\n",
       "      <th>diesel_miles</th>\n",
       "      <th>petrol_miles</th>\n",
       "      <th>electric_miles</th>\n",
       "      <th>diesel_vmt</th>\n",
       "      <th>petrol_vmt</th>\n",
       "      <th>electric_vmt</th>\n",
       "      <th>diesel_economy</th>\n",
       "      <th>petrol_economy</th>\n",
       "      <th>petrol_consumption_gallons</th>\n",
       "      <th>diesel_consumption_gallons</th>\n",
       "      <th>petrol_consumption</th>\n",
       "      <th>diesel_consumption</th>\n",
       "      <th>diesel_emissions</th>\n",
       "      <th>petrol_emissions</th>\n",
       "    </tr>\n",
       "  </thead>\n",
       "  <tbody>\n",
       "    <tr>\n",
       "      <th>2046-12-31</th>\n",
       "      <td>0.0</td>\n",
       "      <td>0.0</td>\n",
       "      <td>320274.0</td>\n",
       "      <td>495699</td>\n",
       "      <td>21556</td>\n",
       "      <td>5747336</td>\n",
       "      <td>11558.752157</td>\n",
       "      <td>7364.654557</td>\n",
       "      <td>5295.490709</td>\n",
       "      <td>5.729662e+09</td>\n",
       "      <td>1.587525e+08</td>\n",
       "      <td>3.043496e+10</td>\n",
       "      <td>36.18182</td>\n",
       "      <td>16.516844</td>\n",
       "      <td>9.611552e+06</td>\n",
       "      <td>1.583575e+08</td>\n",
       "      <td>42.821127</td>\n",
       "      <td>619.121026</td>\n",
       "      <td>1.705481e+09</td>\n",
       "      <td>1.144426e+08</td>\n",
       "    </tr>\n",
       "    <tr>\n",
       "      <th>2047-12-31</th>\n",
       "      <td>0.0</td>\n",
       "      <td>0.0</td>\n",
       "      <td>320274.0</td>\n",
       "      <td>345045</td>\n",
       "      <td>15005</td>\n",
       "      <td>5945906</td>\n",
       "      <td>11558.752157</td>\n",
       "      <td>7364.654557</td>\n",
       "      <td>5295.490709</td>\n",
       "      <td>3.988290e+09</td>\n",
       "      <td>1.105066e+08</td>\n",
       "      <td>3.148649e+10</td>\n",
       "      <td>36.18182</td>\n",
       "      <td>16.516844</td>\n",
       "      <td>6.690542e+06</td>\n",
       "      <td>1.102291e+08</td>\n",
       "      <td>29.807525</td>\n",
       "      <td>430.956315</td>\n",
       "      <td>1.187148e+09</td>\n",
       "      <td>7.966282e+07</td>\n",
       "    </tr>\n",
       "    <tr>\n",
       "      <th>2048-12-31</th>\n",
       "      <td>0.0</td>\n",
       "      <td>0.0</td>\n",
       "      <td>320274.0</td>\n",
       "      <td>228410</td>\n",
       "      <td>9933</td>\n",
       "      <td>6099638</td>\n",
       "      <td>11558.752157</td>\n",
       "      <td>7364.654557</td>\n",
       "      <td>5295.490709</td>\n",
       "      <td>2.640135e+09</td>\n",
       "      <td>7.315311e+07</td>\n",
       "      <td>3.230058e+10</td>\n",
       "      <td>36.18182</td>\n",
       "      <td>16.516844</td>\n",
       "      <td>4.429001e+06</td>\n",
       "      <td>7.296854e+07</td>\n",
       "      <td>19.731966</td>\n",
       "      <td>285.280853</td>\n",
       "      <td>7.858580e+08</td>\n",
       "      <td>5.273514e+07</td>\n",
       "    </tr>\n",
       "    <tr>\n",
       "      <th>2049-12-31</th>\n",
       "      <td>0.0</td>\n",
       "      <td>0.0</td>\n",
       "      <td>320274.0</td>\n",
       "      <td>145794</td>\n",
       "      <td>6340</td>\n",
       "      <td>6208531</td>\n",
       "      <td>11558.752157</td>\n",
       "      <td>7364.654557</td>\n",
       "      <td>5295.490709</td>\n",
       "      <td>1.685197e+09</td>\n",
       "      <td>4.669191e+07</td>\n",
       "      <td>3.287722e+10</td>\n",
       "      <td>36.18182</td>\n",
       "      <td>16.516844</td>\n",
       "      <td>2.826927e+06</td>\n",
       "      <td>4.657579e+07</td>\n",
       "      <td>12.594449</td>\n",
       "      <td>182.094640</td>\n",
       "      <td>5.016128e+08</td>\n",
       "      <td>3.365960e+07</td>\n",
       "    </tr>\n",
       "    <tr>\n",
       "      <th>2050-12-31</th>\n",
       "      <td>0.0</td>\n",
       "      <td>0.0</td>\n",
       "      <td>320274.0</td>\n",
       "      <td>97196</td>\n",
       "      <td>4227</td>\n",
       "      <td>6272586</td>\n",
       "      <td>11558.752157</td>\n",
       "      <td>7364.654557</td>\n",
       "      <td>5295.490709</td>\n",
       "      <td>1.123464e+09</td>\n",
       "      <td>3.113039e+07</td>\n",
       "      <td>3.321642e+10</td>\n",
       "      <td>36.18182</td>\n",
       "      <td>16.516844</td>\n",
       "      <td>1.884767e+06</td>\n",
       "      <td>3.105052e+07</td>\n",
       "      <td>8.396962</td>\n",
       "      <td>121.396426</td>\n",
       "      <td>3.344085e+08</td>\n",
       "      <td>2.244150e+07</td>\n",
       "    </tr>\n",
       "  </tbody>\n",
       "</table>\n",
       "</div>"
      ],
      "text/plain": [
       "            new_diesel  new_petrol  new_electric  diesel  petrol  electric  \\\n",
       "2046-12-31         0.0         0.0      320274.0  495699   21556   5747336   \n",
       "2047-12-31         0.0         0.0      320274.0  345045   15005   5945906   \n",
       "2048-12-31         0.0         0.0      320274.0  228410    9933   6099638   \n",
       "2049-12-31         0.0         0.0      320274.0  145794    6340   6208531   \n",
       "2050-12-31         0.0         0.0      320274.0   97196    4227   6272586   \n",
       "\n",
       "            diesel_miles  petrol_miles  electric_miles    diesel_vmt  \\\n",
       "2046-12-31  11558.752157   7364.654557     5295.490709  5.729662e+09   \n",
       "2047-12-31  11558.752157   7364.654557     5295.490709  3.988290e+09   \n",
       "2048-12-31  11558.752157   7364.654557     5295.490709  2.640135e+09   \n",
       "2049-12-31  11558.752157   7364.654557     5295.490709  1.685197e+09   \n",
       "2050-12-31  11558.752157   7364.654557     5295.490709  1.123464e+09   \n",
       "\n",
       "              petrol_vmt  electric_vmt  diesel_economy  petrol_economy  \\\n",
       "2046-12-31  1.587525e+08  3.043496e+10        36.18182       16.516844   \n",
       "2047-12-31  1.105066e+08  3.148649e+10        36.18182       16.516844   \n",
       "2048-12-31  7.315311e+07  3.230058e+10        36.18182       16.516844   \n",
       "2049-12-31  4.669191e+07  3.287722e+10        36.18182       16.516844   \n",
       "2050-12-31  3.113039e+07  3.321642e+10        36.18182       16.516844   \n",
       "\n",
       "            petrol_consumption_gallons  diesel_consumption_gallons  \\\n",
       "2046-12-31                9.611552e+06                1.583575e+08   \n",
       "2047-12-31                6.690542e+06                1.102291e+08   \n",
       "2048-12-31                4.429001e+06                7.296854e+07   \n",
       "2049-12-31                2.826927e+06                4.657579e+07   \n",
       "2050-12-31                1.884767e+06                3.105052e+07   \n",
       "\n",
       "            petrol_consumption  diesel_consumption  diesel_emissions  \\\n",
       "2046-12-31           42.821127          619.121026      1.705481e+09   \n",
       "2047-12-31           29.807525          430.956315      1.187148e+09   \n",
       "2048-12-31           19.731966          285.280853      7.858580e+08   \n",
       "2049-12-31           12.594449          182.094640      5.016128e+08   \n",
       "2050-12-31            8.396962          121.396426      3.344085e+08   \n",
       "\n",
       "            petrol_emissions  \n",
       "2046-12-31      1.144426e+08  \n",
       "2047-12-31      7.966282e+07  \n",
       "2048-12-31      5.273514e+07  \n",
       "2049-12-31      3.365960e+07  \n",
       "2050-12-31      2.244150e+07  "
      ]
     },
     "execution_count": 102,
     "metadata": {},
     "output_type": "execute_result"
    }
   ],
   "source": [
    "forecast.tail()"
   ]
  },
  {
   "cell_type": "code",
   "execution_count": null,
   "id": "9dfbfcb5-1187-44d0-ac38-92fc16a58c02",
   "metadata": {},
   "outputs": [],
   "source": []
  },
  {
   "cell_type": "code",
   "execution_count": null,
   "id": "c15b959a-e5f4-495b-b8dc-fd5b4f3ba90e",
   "metadata": {},
   "outputs": [],
   "source": []
  }
 ],
 "metadata": {
  "kernelspec": {
   "display_name": "Python 3",
   "language": "python",
   "name": "python3"
  },
  "language_info": {
   "codemirror_mode": {
    "name": "ipython",
    "version": 3
   },
   "file_extension": ".py",
   "mimetype": "text/x-python",
   "name": "python",
   "nbconvert_exporter": "python",
   "pygments_lexer": "ipython3",
   "version": "3.7.10"
  }
 },
 "nbformat": 4,
 "nbformat_minor": 5
}
